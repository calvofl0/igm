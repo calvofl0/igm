{
  "cells": [
    {
      "cell_type": "markdown",
      "metadata": {
        "id": "view-in-github",
        "colab_type": "text"
      },
      "source": [
        "<a href=\"https://colab.research.google.com/github/jouvetg/igm/blob/main/notebooks/IGM_aletsch_1880_2100.ipynb\" target=\"_parent\"><img src=\"https://colab.research.google.com/assets/colab-badge.svg\" alt=\"Open In Colab\"/></a>"
      ]
    },
    {
      "cell_type": "markdown",
      "metadata": {
        "id": "yNJyXmfZFwui"
      },
      "source": [
        "### <h1 align=\"center\" id=\"title\">IGM notebook tutorial (aletsch-1880-2100) </h1>"
      ]
    },
    {
      "cell_type": "markdown",
      "metadata": {
        "id": "_k8QkmWJFwun"
      },
      "source": [
        "This set-up aims to closely reproduce the simulations of the Great Aletsch Glacier (Switzerland) in the past and in the future based\n",
        "on the CH2018 climate scenarios described in (Jouvet and al., JOG, 2011) and (Jouvet and Huss, JOG, 2019), respectively. \n",
        "The goal of this set-up is to give a template of climate-based mass balance implementation within the TensorFlow framework,\n",
        "which can serve for future improvements of the Aletsch case, or adaptations to other mountain glaciers. This simulation relies on\n",
        "an accumulation and distributed temperature-index melt mass balance model (Hock, JOG, 1999). The closest and most recent\n",
        "description of the implemented model is given in (Jouvet and al., TC, 2020). This simulation does not stricly match the original\n",
        "implementation due to discrepencies in input data and ice flow models (emulated Stokes vs original Stokes). Therefore, melt\n",
        "factors were re-calibrated to get the best match between observed and modelled top ice surface in the past. \n"
      ]
    },
    {
      "cell_type": "markdown",
      "metadata": {
        "id": "zqCnDfEVFwup"
      },
      "source": [
        "Let us firt download the IGM code, ice flow emulator, and input data. Input files include geological inputs (geology.nc), spatially-varying fields for the computation of melt factors and snow reditribution (massbalance.nc), as well as temperature and precipitation time serie data (temp_prec.dat). The data also provide some observed top surface ice topographies (in 1880, 1926, 1957, 1980, 1999, 2009, 2017 and 2016)."
      ]
    },
    {
      "cell_type": "code",
      "execution_count": null,
      "metadata": {
        "id": "AA53z4jiFwur",
        "colab": {
          "base_uri": "https://localhost:8080/"
        },
        "outputId": "2d17541d-9f7e-4096-cec0-4f918e83b6a0"
      },
      "outputs": [
        {
          "output_type": "stream",
          "name": "stdout",
          "text": [
            "2022-06-17 07:20:48 URL:https://raw.githubusercontent.com/jouvetg/igm/main/src/igm.py [128518/128518] -> \"igm.py\" [1]\n",
            "2022-06-17 07:20:48 URL:https://raw.githubusercontent.com/jouvetg/igm/main/examples/aletsch-1880-2100/geology.nc [1942564/1942564] -> \"geology.nc\" [1]\n",
            "2022-06-17 07:20:49 URL:https://raw.githubusercontent.com/jouvetg/igm/main/examples/aletsch-1880-2100/massbalance.nc [1567369/1567369] -> \"massbalance.nc\" [1]\n",
            "2022-06-17 07:20:49 URL:https://raw.githubusercontent.com/jouvetg/igm/main/examples/aletsch-1880-2100/mbparameter.dat [511/511] -> \"mbparameter.dat\" [1]\n",
            "2022-06-17 07:20:49 URL:https://raw.githubusercontent.com/jouvetg/igm/main/examples/aletsch-1880-2100/temp_prec.dat [2856735/2856735] -> \"temp_prec.dat\" [1]\n",
            "2022-06-17 07:20:50 URL:https://raw.githubusercontent.com/jouvetg/igm/main/examples/aletsch-1880-2100/igm_clim_aletsch.py [4044/4044] -> \"igm_clim_aletsch.py\" [1]\n",
            "2022-06-17 07:20:50 URL:https://raw.githubusercontent.com/jouvetg/igm/main/examples/aletsch-1880-2100/igm_smb_accmelt.py [8120/8120] -> \"igm_smb_accmelt.py\" [1]\n",
            "Reading package lists... Done\n",
            "Building dependency tree       \n",
            "Reading state information... Done\n",
            "The following package was automatically installed and is no longer required:\n",
            "  libnvidia-common-460\n",
            "Use 'apt autoremove' to remove it.\n",
            "The following additional packages will be installed:\n",
            "  libapr1 libaprutil1 libserf-1-1 libsvn1\n",
            "Suggested packages:\n",
            "  db5.3-util libapache2-mod-svn subversion-tools\n",
            "The following NEW packages will be installed:\n",
            "  libapr1 libaprutil1 libserf-1-1 libsvn1 subversion\n",
            "0 upgraded, 5 newly installed, 0 to remove and 49 not upgraded.\n",
            "Need to get 2,235 kB of archives.\n",
            "After this operation, 9,916 kB of additional disk space will be used.\n",
            "Get:1 http://archive.ubuntu.com/ubuntu bionic/main amd64 libapr1 amd64 1.6.3-2 [90.9 kB]\n",
            "Get:2 http://archive.ubuntu.com/ubuntu bionic/main amd64 libaprutil1 amd64 1.6.1-2 [84.4 kB]\n",
            "Get:3 http://archive.ubuntu.com/ubuntu bionic/universe amd64 libserf-1-1 amd64 1.3.9-6 [44.4 kB]\n",
            "Get:4 http://archive.ubuntu.com/ubuntu bionic-updates/universe amd64 libsvn1 amd64 1.9.7-4ubuntu1.1 [1,181 kB]\n",
            "Get:5 http://archive.ubuntu.com/ubuntu bionic-updates/universe amd64 subversion amd64 1.9.7-4ubuntu1.1 [834 kB]\n",
            "Fetched 2,235 kB in 0s (15.2 MB/s)\n",
            "Selecting previously unselected package libapr1:amd64.\n",
            "(Reading database ... 155639 files and directories currently installed.)\n",
            "Preparing to unpack .../libapr1_1.6.3-2_amd64.deb ...\n",
            "Unpacking libapr1:amd64 (1.6.3-2) ...\n",
            "Selecting previously unselected package libaprutil1:amd64.\n",
            "Preparing to unpack .../libaprutil1_1.6.1-2_amd64.deb ...\n",
            "Unpacking libaprutil1:amd64 (1.6.1-2) ...\n",
            "Selecting previously unselected package libserf-1-1:amd64.\n",
            "Preparing to unpack .../libserf-1-1_1.3.9-6_amd64.deb ...\n",
            "Unpacking libserf-1-1:amd64 (1.3.9-6) ...\n",
            "Selecting previously unselected package libsvn1:amd64.\n",
            "Preparing to unpack .../libsvn1_1.9.7-4ubuntu1.1_amd64.deb ...\n",
            "Unpacking libsvn1:amd64 (1.9.7-4ubuntu1.1) ...\n",
            "Selecting previously unselected package subversion.\n",
            "Preparing to unpack .../subversion_1.9.7-4ubuntu1.1_amd64.deb ...\n",
            "Unpacking subversion (1.9.7-4ubuntu1.1) ...\n",
            "Setting up libapr1:amd64 (1.6.3-2) ...\n",
            "Setting up libaprutil1:amd64 (1.6.1-2) ...\n",
            "Setting up libserf-1-1:amd64 (1.3.9-6) ...\n",
            "Setting up libsvn1:amd64 (1.9.7-4ubuntu1.1) ...\n",
            "Setting up subversion (1.9.7-4ubuntu1.1) ...\n",
            "Processing triggers for libc-bin (2.27-3ubuntu1.3) ...\n",
            "/sbin/ldconfig.real: /usr/local/lib/python3.7/dist-packages/ideep4py/lib/libmkldnn.so.0 is not a symbolic link\n",
            "\n",
            "Processing triggers for man-db (2.8.3-2ubuntu0.1) ...\n",
            "A    f15_cfsflow_GJ_22_a\n",
            "A    f15_cfsflow_GJ_22_a/100\n",
            "A    f15_cfsflow_GJ_22_a/100/Learning-curve.pdf\n",
            "A    f15_cfsflow_GJ_22_a/100/fieldin.dat\n",
            "A    f15_cfsflow_GJ_22_a/100/fieldout.dat\n",
            "A    f15_cfsflow_GJ_22_a/100/model-info.txt\n",
            "A    f15_cfsflow_GJ_22_a/100/model.h5\n",
            "A    f15_cfsflow_GJ_22_a/README.md\n",
            "Exported revision 155.\n"
          ]
        }
      ],
      "source": [
        "# get the core source of igm (in igm.py)\n",
        "!wget -nv -O  igm.py https://raw.githubusercontent.com/jouvetg/igm/main/src/igm.py\n",
        "\n",
        "# get input data (topography, mass balance and climate data, resp.)\n",
        "!wget -nv -O geology.nc https://raw.githubusercontent.com/jouvetg/igm/main/examples/aletsch-1880-2100/geology.nc\n",
        "!wget -nv -O massbalance.nc https://raw.githubusercontent.com/jouvetg/igm/main/examples/aletsch-1880-2100/massbalance.nc\n",
        "!wget -nv -O mbparameter.dat https://raw.githubusercontent.com/jouvetg/igm/main/examples/aletsch-1880-2100/mbparameter.dat\n",
        "!wget -nv -O temp_prec.dat https://raw.githubusercontent.com/jouvetg/igm/main/examples/aletsch-1880-2100/temp_prec.dat\n",
        "\n",
        "# get specific igm functions for this set-up (climate and mass balance, resp.)\n",
        "!wget -nv -O igm_clim_aletsch.py https://raw.githubusercontent.com/jouvetg/igm/main/examples/aletsch-1880-2100/igm_clim_aletsch.py\n",
        "!wget -nv -O igm_smb_accmelt.py https://raw.githubusercontent.com/jouvetg/igm/main/examples/aletsch-1880-2100/igm_smb_accmelt.py\n",
        "\n",
        "# get the ice flow DL-emulator\n",
        "!apt install subversion\n",
        "!svn export https://github.com/jouvetg/igm/trunk/model-lib/f15_cfsflow_GJ_22_a\n"
      ]
    },
    {
      "cell_type": "markdown",
      "metadata": {
        "id": "VR1oNvLvFwuz"
      },
      "source": [
        "First, we import necessary libraries, check the version of tensorflow, and inport the class igm (defined in igm.py), and create an igm object."
      ]
    },
    {
      "cell_type": "code",
      "execution_count": null,
      "metadata": {
        "id": "HcpUnDWpFwu1"
      },
      "outputs": [],
      "source": [
        "import matplotlib.pyplot as plt\n",
        "import numpy as np\n",
        "import tensorflow as tf\n",
        "import time\n",
        "import sys\n",
        "\n",
        "sys.argv = ['']  # this is absolutly necessary in Jupyter notebook\n",
        "\n",
        "from igm import Igm\n",
        "from igm_clim_aletsch import *\n",
        "from igm_smb_accmelt import *\n",
        " \n",
        "# add extensions for climate generation and mass balance to the core igm class\n",
        "class Igm(Igm,Igm_clim_aletsch, Igm_smb_accmelt):\n",
        "    pass\n",
        "\n",
        "# define the igm class\n",
        "glacier = Igm()"
      ]
    },
    {
      "cell_type": "markdown",
      "source": [
        "Altough, you don't have to, it is highly recommended to run under GPU (click above 'Runtime' -> 'Change Runtime type' -> Activate GPU). Then the fowllowing comand check that a GPU is indeed available, and give the name of the GPU. (With the free veryion of colab these GPU are often old and not that efficient -- like the K80 --, IGM would typically run faster on new material)"
      ],
      "metadata": {
        "id": "lu5f4fKIBvSP"
      }
    },
    {
      "cell_type": "markdown",
      "metadata": {
        "id": "BS3gGxl0Fwu3"
      },
      "source": [
        "Next, we overide the default configuration parameters, initialize the class, and check at the parameters"
      ]
    },
    {
      "cell_type": "code",
      "execution_count": null,
      "metadata": {
        "scrolled": true,
        "id": "h6nntbjDFwu5",
        "colab": {
          "base_uri": "https://localhost:8080/"
        },
        "outputId": "3cde0b44-8f2b-49dd-cab6-71a5cc3ef1be"
      },
      "outputs": [
        {
          "output_type": "stream",
          "name": "stdout",
          "text": [
            "+++++++++++++++++++ START IGM ++++++++++++++++++++++++++++++++++++++++++\n",
            "PARAMETERS ARE ...... \n",
            "                   working_dir : \n",
            "                  geology_file : geology.nc\n",
            "                      resample : 1\n",
            "                        tstart : 1880\n",
            "                          tend : 2100\n",
            "                restartingfile : \n",
            "                     verbosity : 0\n",
            "                         tsave : 1\n",
            "                   plot_result : False\n",
            "                     plot_live : False\n",
            "                        usegpu : True\n",
            "                          stop : False\n",
            "              init_strflowctrl : 78\n",
            "                init_slidingco : 0\n",
            "                init_arrhenius : 78\n",
            "                      optimize : False\n",
            "                   update_topg : False\n",
            "                  vel3d_active : False\n",
            "                            dz : 20\n",
            "                        maxthk : 1000.0\n",
            "               weight_ablation : 1.25\n",
            "           weight_accumulation : 1.0\n",
            "                 thr_temp_snow : 0.5\n",
            "                 thr_temp_rain : 2.5\n",
            "              shift_hydro_year : 0.75\n",
            "            weight_Aletschfirn : 1.0\n",
            "           weight_Jungfraufirn : 1.0\n",
            "         weight_Ewigschneefeld : 1.0\n",
            "              clim_update_freq : 1\n",
            "                  type_climate : aletsch\n",
            "          clim_time_resolution : 365\n",
            "               erosion_include : False\n",
            "                   erosion_cst : 2.7e-07\n",
            "                   erosion_exp : 2\n",
            "           erosion_update_freq : 100\n",
            "        iceflow_model_lib_path : f15_cfsflow_GJ_22_a\n",
            "          multiple_window_size : 0\n",
            "              force_max_velbar : 0\n",
            "             opti_vars_to_save : ['topg', 'usurf', 'thk', 'strflowctrl', 'arrhenius', 'slidingco', 'velsurf_mag', 'velsurfobs_mag', 'divflux']\n",
            "              observation_file : observation.nc\n",
            "             thk_profiles_file : \n",
            "                     mode_opti : thkstrflowctrl\n",
            "          opti_thr_strflowctrl : 78.0\n",
            "            opti_init_zero_thk : False\n",
            "           opti_regu_param_thk : 10.0\n",
            "   opti_regu_param_strflowctrl : 1.0\n",
            " opti_smooth_anisotropy_factor : 0.2\n",
            "         opti_convexity_weight : 0.002\n",
            "             opti_usurfobs_std : 5.0\n",
            "          opti_strflowctrl_std : 5.0\n",
            "           opti_velsurfobs_std : 3.0\n",
            "               opti_thkobs_std : 5.0\n",
            "           opti_divfluxobs_std : 1.0\n",
            "                  opti_control : ['thk', 'strflowctrl', 'usurf']\n",
            "                     opti_cost : ['velsurf', 'thk', 'usurf', 'divfluxfcz', 'icemask']\n",
            "                  opti_nbitmin : 50\n",
            "                  opti_nbitmax : 1000\n",
            "                opti_step_size : 0.001\n",
            "       opti_make_holes_in_data : 0\n",
            "              opti_output_freq : 50\n",
            "        geology_optimized_file : geology-optimized.nc\n",
            "                  vars_to_save : ['topg', 'usurf', 'thk', 'smb', 'velbar_mag', 'velsurf_mag']\n",
            "                       varplot : velbar_mag\n",
            "                   varplot_max : 500\n",
            "                mb_update_freq : 1\n",
            "             type_mass_balance : accmelt\n",
            "                    mb_scaling : 1.0\n",
            "                mb_simple_file : mb_simple_param.txt\n",
            "            smb_model_lib_path : /home/jouvetg/IGM/model-lib/smb_meteoswissglamos\n",
            "                           cfl : 0.25\n",
            "                         dtmax : 10.0\n",
            "            tracking_particles : True\n",
            "             frequency_seeding : 10\n",
            "               density_seeding : 0.2\n",
            "              massbalance_file : massbalance.nc\n"
          ]
        }
      ],
      "source": [
        "# Set-up parameters\n",
        "\n",
        "glacier.config.working_dir           = ''  \n",
        "glacier.config.tstart                = 1880  # starting time (you may use other available year like 1926)\n",
        "glacier.config.tend                  = 2100  # final time\n",
        "glacier.config.tsave                 = 1     # saving frequence\n",
        "glacier.config.cfl                   = 0.25  # CFL condition must be lower than 1\n",
        "\n",
        "glacier.config.iceflow_model_lib_path= 'f15_cfsflow_GJ_22_a'  # direct to the iceflow emaultor\n",
        "glacier.config.type_climate          = 'aletsch'              # select type of climate forcing\n",
        "\n",
        "glacier.config.init_slidingco        = 0     # this parametrizes the ice flow (sliding), the higher this param, the faster the flow\n",
        "glacier.config.init_arrhenius        = 78    # this parametrizes the ice flow (shearing), the higher this param, the faster the flow\n",
        "\n",
        "glacier.config.type_mass_balance     = 'accmelt'              # select type of mass balance\n",
        "glacier.config.massbalance_file      = 'massbalance.nc'       # mass balance data\n",
        "glacier.config.weight_accumulation   = 1.00                   # this param weights accumulation\n",
        "glacier.config.weight_ablation       = 1.25                   # this param weights ablation\n",
        "\n",
        "glacier.config.usegpu                = True\n",
        "\n",
        "glacier.config.weight_Aletschfirn    = 1.0 # this param weights Aletschfirn accumulation area\n",
        "glacier.config.weight_Jungfraufirn   = 1.0 # this param weights Jungfraufirn accumulation area\n",
        "glacier.config.weight_Ewigschneefeld = 1.0 # this param weights Ewigschneefeld accumulation area\n",
        "\n",
        "glacier.initialize()"
      ]
    },
    {
      "cell_type": "markdown",
      "metadata": {
        "id": "puHkT8XGFwu-"
      },
      "source": [
        "We are now ready to simulate the great Aletsch Glacier for 220 years from 1880. The next code could be substitute by the simple comand igm.run(), however, we use the full workflow as we included an assemement of the model output ice surface against observation in years 1880, 1926, 1957, 1980, 1999, 2009, 2017 and 2016.\n"
      ]
    },
    {
      "cell_type": "code",
      "execution_count": null,
      "metadata": {
        "id": "sye7i4scFwvA",
        "colab": {
          "base_uri": "https://localhost:8080/"
        },
        "outputId": "0574cd81-c419-475e-ae69-cb427dd899b4"
      },
      "outputs": [
        {
          "output_type": "stream",
          "name": "stdout",
          "text": [
            "IGM 07:21:54 : Iterations =      0  |  Time =     1880  |  DT =   10.00  |  Ice Volume (km^3) =      20.67 \n",
            "IGM 07:21:55 : Iterations =     14  |  Time =     1881  |  DT =    0.09  |  Ice Volume (km^3) =      20.62 \n",
            "IGM 07:21:56 : Iterations =     26  |  Time =     1882  |  DT =    0.09  |  Ice Volume (km^3) =      20.51 \n",
            "IGM 07:21:56 : Iterations =     38  |  Time =     1883  |  DT =    0.09  |  Ice Volume (km^3) =      20.57 \n",
            "IGM 07:21:56 : Iterations =     49  |  Time =     1884  |  DT =    0.10  |  Ice Volume (km^3) =      20.55 \n",
            "IGM 07:21:57 : Iterations =     60  |  Time =     1885  |  DT =    0.10  |  Ice Volume (km^3) =      20.44 \n",
            "IGM 07:21:57 : Iterations =     70  |  Time =     1886  |  DT =    0.11  |  Ice Volume (km^3) =      20.35 \n",
            "IGM 07:21:57 : Iterations =     80  |  Time =     1887  |  DT =    0.11  |  Ice Volume (km^3) =      20.28 \n",
            "IGM 07:21:57 : Iterations =     90  |  Time =     1888  |  DT =    0.11  |  Ice Volume (km^3) =      20.16 \n",
            "IGM 07:21:58 : Iterations =     99  |  Time =     1889  |  DT =    0.12  |  Ice Volume (km^3) =      20.18 \n",
            "IGM 07:21:58 : Iterations =    108  |  Time =     1890  |  DT =    0.12  |  Ice Volume (km^3) =      20.18 \n",
            "IGM 07:21:58 : Iterations =    117  |  Time =     1891  |  DT =    0.12  |  Ice Volume (km^3) =      20.19 \n",
            "IGM 07:21:58 : Iterations =    126  |  Time =     1892  |  DT =    0.12  |  Ice Volume (km^3) =      20.20 \n",
            "IGM 07:21:59 : Iterations =    135  |  Time =     1893  |  DT =    0.12  |  Ice Volume (km^3) =      20.11 \n",
            "IGM 07:21:59 : Iterations =    144  |  Time =     1894  |  DT =    0.13  |  Ice Volume (km^3) =      19.96 \n",
            "IGM 07:21:59 : Iterations =    152  |  Time =     1895  |  DT =    0.13  |  Ice Volume (km^3) =      19.89 \n",
            "IGM 07:22:00 : Iterations =    160  |  Time =     1896  |  DT =    0.13  |  Ice Volume (km^3) =      19.76 \n",
            "IGM 07:22:00 : Iterations =    168  |  Time =     1897  |  DT =    0.13  |  Ice Volume (km^3) =      19.80 \n",
            "IGM 07:22:00 : Iterations =    176  |  Time =     1898  |  DT =    0.13  |  Ice Volume (km^3) =      19.71 \n",
            "IGM 07:22:00 : Iterations =    184  |  Time =     1899  |  DT =    0.13  |  Ice Volume (km^3) =      19.68 \n",
            "IGM 07:22:01 : Iterations =    192  |  Time =     1900  |  DT =    0.14  |  Ice Volume (km^3) =      19.60 \n",
            "IGM 07:22:01 : Iterations =    200  |  Time =     1901  |  DT =    0.14  |  Ice Volume (km^3) =      19.49 \n",
            "IGM 07:22:01 : Iterations =    208  |  Time =     1902  |  DT =    0.14  |  Ice Volume (km^3) =      19.44 \n",
            "IGM 07:22:01 : Iterations =    216  |  Time =     1903  |  DT =    0.14  |  Ice Volume (km^3) =      19.40 \n",
            "IGM 07:22:02 : Iterations =    224  |  Time =     1904  |  DT =    0.14  |  Ice Volume (km^3) =      19.37 \n",
            "IGM 07:22:02 : Iterations =    231  |  Time =     1905  |  DT =    0.14  |  Ice Volume (km^3) =      19.20 \n",
            "IGM 07:22:02 : Iterations =    238  |  Time =     1906  |  DT =    0.15  |  Ice Volume (km^3) =      19.15 \n",
            "IGM 07:22:02 : Iterations =    245  |  Time =     1907  |  DT =    0.15  |  Ice Volume (km^3) =      19.00 \n",
            "IGM 07:22:03 : Iterations =    252  |  Time =     1908  |  DT =    0.15  |  Ice Volume (km^3) =      18.96 \n",
            "IGM 07:22:03 : Iterations =    259  |  Time =     1909  |  DT =    0.15  |  Ice Volume (km^3) =      18.87 \n",
            "IGM 07:22:03 : Iterations =    266  |  Time =     1910  |  DT =    0.15  |  Ice Volume (km^3) =      18.88 \n",
            "IGM 07:22:03 : Iterations =    273  |  Time =     1911  |  DT =    0.15  |  Ice Volume (km^3) =      18.94 \n",
            "IGM 07:22:03 : Iterations =    280  |  Time =     1912  |  DT =    0.15  |  Ice Volume (km^3) =      18.69 \n",
            "IGM 07:22:04 : Iterations =    287  |  Time =     1913  |  DT =    0.15  |  Ice Volume (km^3) =      18.75 \n",
            "IGM 07:22:04 : Iterations =    294  |  Time =     1914  |  DT =    0.15  |  Ice Volume (km^3) =      18.78 \n",
            "IGM 07:22:04 : Iterations =    301  |  Time =     1915  |  DT =    0.15  |  Ice Volume (km^3) =      18.84 \n",
            "IGM 07:22:04 : Iterations =    308  |  Time =     1916  |  DT =    0.15  |  Ice Volume (km^3) =      18.86 \n",
            "IGM 07:22:05 : Iterations =    315  |  Time =     1917  |  DT =    0.15  |  Ice Volume (km^3) =      18.95 \n",
            "IGM 07:22:05 : Iterations =    322  |  Time =     1918  |  DT =    0.15  |  Ice Volume (km^3) =      18.90 \n",
            "IGM 07:22:05 : Iterations =    329  |  Time =     1919  |  DT =    0.15  |  Ice Volume (km^3) =      18.94 \n",
            "IGM 07:22:05 : Iterations =    336  |  Time =     1920  |  DT =    0.15  |  Ice Volume (km^3) =      18.91 \n",
            "IGM 07:22:06 : Iterations =    343  |  Time =     1921  |  DT =    0.15  |  Ice Volume (km^3) =      18.84 \n",
            "IGM 07:22:06 : Iterations =    350  |  Time =     1922  |  DT =    0.15  |  Ice Volume (km^3) =      18.65 \n",
            "IGM 07:22:06 : Iterations =    357  |  Time =     1923  |  DT =    0.15  |  Ice Volume (km^3) =      18.69 \n",
            "IGM 07:22:06 : Iterations =    364  |  Time =     1924  |  DT =    0.15  |  Ice Volume (km^3) =      18.61 \n",
            "IGM 07:22:06 : Iterations =    371  |  Time =     1925  |  DT =    0.15  |  Ice Volume (km^3) =      18.60 \n",
            "IGM 07:22:07 : Iterations =    378  |  Time =     1926  |  DT =    0.15  |  Ice Volume (km^3) =      18.60 \n",
            " Check modelled vs observed surface at time :     1926 ; Mean discr. :     1.35  ;  Std :    33.40 |  Ice volume :    18.60 \n",
            "IGM 07:22:07 : Iterations =    385  |  Time =     1927  |  DT =    0.15  |  Ice Volume (km^3) =      18.63 \n",
            "IGM 07:22:07 : Iterations =    392  |  Time =     1928  |  DT =    0.15  |  Ice Volume (km^3) =      18.62 \n",
            "IGM 07:22:07 : Iterations =    399  |  Time =     1929  |  DT =    0.15  |  Ice Volume (km^3) =      18.57 \n",
            "IGM 07:22:08 : Iterations =    406  |  Time =     1930  |  DT =    0.15  |  Ice Volume (km^3) =      18.46 \n",
            "IGM 07:22:08 : Iterations =    413  |  Time =     1931  |  DT =    0.15  |  Ice Volume (km^3) =      18.52 \n",
            "IGM 07:22:08 : Iterations =    420  |  Time =     1932  |  DT =    0.15  |  Ice Volume (km^3) =      18.50 \n",
            "IGM 07:22:08 : Iterations =    427  |  Time =     1933  |  DT =    0.15  |  Ice Volume (km^3) =      18.48 \n",
            "IGM 07:22:09 : Iterations =    434  |  Time =     1934  |  DT =    0.15  |  Ice Volume (km^3) =      18.46 \n",
            "IGM 07:22:09 : Iterations =    441  |  Time =     1935  |  DT =    0.15  |  Ice Volume (km^3) =      18.43 \n",
            "IGM 07:22:09 : Iterations =    448  |  Time =     1936  |  DT =    0.15  |  Ice Volume (km^3) =      18.43 \n",
            "IGM 07:22:09 : Iterations =    455  |  Time =     1937  |  DT =    0.15  |  Ice Volume (km^3) =      18.52 \n",
            "IGM 07:22:09 : Iterations =    462  |  Time =     1938  |  DT =    0.15  |  Ice Volume (km^3) =      18.49 \n",
            "IGM 07:22:10 : Iterations =    469  |  Time =     1939  |  DT =    0.15  |  Ice Volume (km^3) =      18.46 \n",
            "IGM 07:22:10 : Iterations =    476  |  Time =     1940  |  DT =    0.15  |  Ice Volume (km^3) =      18.57 \n",
            "IGM 07:22:10 : Iterations =    483  |  Time =     1941  |  DT =    0.14  |  Ice Volume (km^3) =      18.66 \n",
            "IGM 07:22:10 : Iterations =    490  |  Time =     1942  |  DT =    0.15  |  Ice Volume (km^3) =      18.62 \n",
            "IGM 07:22:11 : Iterations =    497  |  Time =     1943  |  DT =    0.15  |  Ice Volume (km^3) =      18.57 \n",
            "IGM 07:22:11 : Iterations =    504  |  Time =     1944  |  DT =    0.15  |  Ice Volume (km^3) =      18.48 \n",
            "IGM 07:22:11 : Iterations =    511  |  Time =     1945  |  DT =    0.15  |  Ice Volume (km^3) =      18.45 \n",
            "IGM 07:22:11 : Iterations =    518  |  Time =     1946  |  DT =    0.15  |  Ice Volume (km^3) =      18.34 \n",
            "IGM 07:22:12 : Iterations =    525  |  Time =     1947  |  DT =    0.15  |  Ice Volume (km^3) =      18.29 \n",
            "IGM 07:22:12 : Iterations =    532  |  Time =     1948  |  DT =    0.16  |  Ice Volume (km^3) =      18.01 \n",
            "IGM 07:22:12 : Iterations =    539  |  Time =     1949  |  DT =    0.16  |  Ice Volume (km^3) =      17.99 \n",
            "IGM 07:22:12 : Iterations =    546  |  Time =     1950  |  DT =    0.16  |  Ice Volume (km^3) =      17.80 \n",
            "IGM 07:22:12 : Iterations =    553  |  Time =     1951  |  DT =    0.16  |  Ice Volume (km^3) =      17.68 \n",
            "IGM 07:22:13 : Iterations =    560  |  Time =     1952  |  DT =    0.16  |  Ice Volume (km^3) =      17.69 \n",
            "IGM 07:22:13 : Iterations =    567  |  Time =     1953  |  DT =    0.16  |  Ice Volume (km^3) =      17.61 \n",
            "IGM 07:22:13 : Iterations =    574  |  Time =     1954  |  DT =    0.16  |  Ice Volume (km^3) =      17.53 \n",
            "IGM 07:22:13 : Iterations =    581  |  Time =     1955  |  DT =    0.16  |  Ice Volume (km^3) =      17.57 \n",
            "IGM 07:22:14 : Iterations =    588  |  Time =     1956  |  DT =    0.16  |  Ice Volume (km^3) =      17.59 \n",
            "IGM 07:22:14 : Iterations =    595  |  Time =     1957  |  DT =    0.16  |  Ice Volume (km^3) =      17.64 \n",
            " Check modelled vs observed surface at time :     1957 ; Mean discr. :     7.24  ;  Std :    33.57 |  Ice volume :    17.64 \n",
            "IGM 07:22:14 : Iterations =    602  |  Time =     1958  |  DT =    0.16  |  Ice Volume (km^3) =      17.63 \n",
            "IGM 07:22:14 : Iterations =    609  |  Time =     1959  |  DT =    0.16  |  Ice Volume (km^3) =      17.60 \n",
            "IGM 07:22:15 : Iterations =    616  |  Time =     1960  |  DT =    0.16  |  Ice Volume (km^3) =      17.48 \n",
            "IGM 07:22:15 : Iterations =    623  |  Time =     1961  |  DT =    0.16  |  Ice Volume (km^3) =      17.53 \n",
            "IGM 07:22:15 : Iterations =    630  |  Time =     1962  |  DT =    0.16  |  Ice Volume (km^3) =      17.44 \n",
            "IGM 07:22:15 : Iterations =    637  |  Time =     1963  |  DT =    0.16  |  Ice Volume (km^3) =      17.35 \n",
            "IGM 07:22:16 : Iterations =    644  |  Time =     1964  |  DT =    0.16  |  Ice Volume (km^3) =      17.30 \n",
            "IGM 07:22:16 : Iterations =    651  |  Time =     1965  |  DT =    0.16  |  Ice Volume (km^3) =      17.18 \n",
            "IGM 07:22:16 : Iterations =    658  |  Time =     1966  |  DT =    0.16  |  Ice Volume (km^3) =      17.24 \n",
            "IGM 07:22:16 : Iterations =    665  |  Time =     1967  |  DT =    0.16  |  Ice Volume (km^3) =      17.19 \n",
            "IGM 07:22:16 : Iterations =    672  |  Time =     1968  |  DT =    0.16  |  Ice Volume (km^3) =      17.07 \n",
            "IGM 07:22:17 : Iterations =    679  |  Time =     1969  |  DT =    0.16  |  Ice Volume (km^3) =      17.10 \n",
            "IGM 07:22:17 : Iterations =    686  |  Time =     1970  |  DT =    0.16  |  Ice Volume (km^3) =      17.02 \n",
            "IGM 07:22:17 : Iterations =    693  |  Time =     1971  |  DT =    0.16  |  Ice Volume (km^3) =      16.96 \n",
            "IGM 07:22:17 : Iterations =    700  |  Time =     1972  |  DT =    0.16  |  Ice Volume (km^3) =      16.86 \n",
            "IGM 07:22:18 : Iterations =    707  |  Time =     1973  |  DT =    0.16  |  Ice Volume (km^3) =      16.86 \n",
            "IGM 07:22:18 : Iterations =    714  |  Time =     1974  |  DT =    0.16  |  Ice Volume (km^3) =      16.76 \n",
            "IGM 07:22:18 : Iterations =    721  |  Time =     1975  |  DT =    0.16  |  Ice Volume (km^3) =      16.76 \n",
            "IGM 07:22:18 : Iterations =    728  |  Time =     1976  |  DT =    0.16  |  Ice Volume (km^3) =      16.70 \n",
            "IGM 07:22:19 : Iterations =    735  |  Time =     1977  |  DT =    0.17  |  Ice Volume (km^3) =      16.57 \n",
            "IGM 07:22:19 : Iterations =    742  |  Time =     1978  |  DT =    0.16  |  Ice Volume (km^3) =      16.62 \n",
            "IGM 07:22:19 : Iterations =    749  |  Time =     1979  |  DT =    0.16  |  Ice Volume (km^3) =      16.71 \n",
            "IGM 07:22:19 : Iterations =    756  |  Time =     1980  |  DT =    0.16  |  Ice Volume (km^3) =      16.75 \n",
            " Check modelled vs observed surface at time :     1980 ; Mean discr. :     3.59  ;  Std :    33.70 |  Ice volume :    16.75 \n",
            "IGM 07:22:19 : Iterations =    763  |  Time =     1981  |  DT =    0.16  |  Ice Volume (km^3) =      16.82 \n",
            "IGM 07:22:20 : Iterations =    770  |  Time =     1982  |  DT =    0.16  |  Ice Volume (km^3) =      16.87 \n",
            "IGM 07:22:20 : Iterations =    777  |  Time =     1983  |  DT =    0.16  |  Ice Volume (km^3) =      16.86 \n",
            "IGM 07:22:20 : Iterations =    784  |  Time =     1984  |  DT =    0.16  |  Ice Volume (km^3) =      16.79 \n",
            "IGM 07:22:20 : Iterations =    791  |  Time =     1985  |  DT =    0.16  |  Ice Volume (km^3) =      16.81 \n",
            "IGM 07:22:21 : Iterations =    798  |  Time =     1986  |  DT =    0.16  |  Ice Volume (km^3) =      16.81 \n",
            "IGM 07:22:21 : Iterations =    805  |  Time =     1987  |  DT =    0.16  |  Ice Volume (km^3) =      16.79 \n",
            "IGM 07:22:21 : Iterations =    812  |  Time =     1988  |  DT =    0.16  |  Ice Volume (km^3) =      16.78 \n",
            "IGM 07:22:21 : Iterations =    819  |  Time =     1989  |  DT =    0.15  |  Ice Volume (km^3) =      16.79 \n",
            "IGM 07:22:22 : Iterations =    826  |  Time =     1990  |  DT =    0.15  |  Ice Volume (km^3) =      16.77 \n",
            "IGM 07:22:22 : Iterations =    833  |  Time =     1991  |  DT =    0.15  |  Ice Volume (km^3) =      16.76 \n",
            "IGM 07:22:22 : Iterations =    840  |  Time =     1992  |  DT =    0.15  |  Ice Volume (km^3) =      16.70 \n",
            "IGM 07:22:22 : Iterations =    847  |  Time =     1993  |  DT =    0.16  |  Ice Volume (km^3) =      16.66 \n",
            "IGM 07:22:23 : Iterations =    854  |  Time =     1994  |  DT =    0.15  |  Ice Volume (km^3) =      16.65 \n",
            "IGM 07:22:23 : Iterations =    861  |  Time =     1995  |  DT =    0.16  |  Ice Volume (km^3) =      16.54 \n",
            "IGM 07:22:23 : Iterations =    868  |  Time =     1996  |  DT =    0.16  |  Ice Volume (km^3) =      16.51 \n",
            "IGM 07:22:23 : Iterations =    875  |  Time =     1997  |  DT =    0.16  |  Ice Volume (km^3) =      16.54 \n",
            "IGM 07:22:23 : Iterations =    882  |  Time =     1998  |  DT =    0.16  |  Ice Volume (km^3) =      16.47 \n",
            "IGM 07:22:24 : Iterations =    889  |  Time =     1999  |  DT =    0.16  |  Ice Volume (km^3) =      16.37 \n",
            " Check modelled vs observed surface at time :     1999 ; Mean discr. :    10.49  ;  Std :    32.49 |  Ice volume :    16.37 \n",
            "IGM 07:22:24 : Iterations =    896  |  Time =     2000  |  DT =    0.16  |  Ice Volume (km^3) =      16.26 \n",
            "IGM 07:22:24 : Iterations =    903  |  Time =     2001  |  DT =    0.16  |  Ice Volume (km^3) =      16.11 \n",
            "IGM 07:22:24 : Iterations =    910  |  Time =     2002  |  DT =    0.16  |  Ice Volume (km^3) =      15.96 \n",
            "IGM 07:22:25 : Iterations =    917  |  Time =     2003  |  DT =    0.16  |  Ice Volume (km^3) =      15.91 \n",
            "IGM 07:22:25 : Iterations =    924  |  Time =     2004  |  DT =    0.17  |  Ice Volume (km^3) =      15.47 \n",
            "IGM 07:22:25 : Iterations =    930  |  Time =     2005  |  DT =    0.17  |  Ice Volume (km^3) =      15.35 \n",
            "IGM 07:22:25 : Iterations =    936  |  Time =     2006  |  DT =    0.17  |  Ice Volume (km^3) =      15.19 \n",
            "IGM 07:22:25 : Iterations =    942  |  Time =     2007  |  DT =    0.17  |  Ice Volume (km^3) =      14.98 \n",
            "IGM 07:22:26 : Iterations =    948  |  Time =     2008  |  DT =    0.17  |  Ice Volume (km^3) =      14.92 \n",
            "IGM 07:22:26 : Iterations =    954  |  Time =     2009  |  DT =    0.17  |  Ice Volume (km^3) =      14.81 \n",
            " Check modelled vs observed surface at time :     2009 ; Mean discr. :     5.20  ;  Std :    33.57 |  Ice volume :    14.81 \n",
            "IGM 07:22:26 : Iterations =    960  |  Time =     2010  |  DT =    0.17  |  Ice Volume (km^3) =      14.61 \n",
            "IGM 07:22:26 : Iterations =    966  |  Time =     2011  |  DT =    0.17  |  Ice Volume (km^3) =      14.46 \n",
            "IGM 07:22:27 : Iterations =    972  |  Time =     2012  |  DT =    0.18  |  Ice Volume (km^3) =      14.28 \n",
            "IGM 07:22:27 : Iterations =    978  |  Time =     2013  |  DT =    0.18  |  Ice Volume (km^3) =      14.15 \n",
            "IGM 07:22:27 : Iterations =    984  |  Time =     2014  |  DT =    0.18  |  Ice Volume (km^3) =      14.01 \n",
            "IGM 07:22:27 : Iterations =    990  |  Time =     2015  |  DT =    0.17  |  Ice Volume (km^3) =      13.96 \n",
            "IGM 07:22:27 : Iterations =    996  |  Time =     2016  |  DT =    0.18  |  Ice Volume (km^3) =      13.71 \n",
            "IGM 07:22:28 : Iterations =   1002  |  Time =     2017  |  DT =    0.18  |  Ice Volume (km^3) =      13.58 \n",
            " Check modelled vs observed surface at time :     2017 ; Mean discr. :     2.78  ;  Std :    34.50 |  Ice volume :    13.58 \n",
            "IGM 07:22:28 : Iterations =   1008  |  Time =     2018  |  DT =    0.18  |  Ice Volume (km^3) =      13.42 \n",
            "IGM 07:22:28 : Iterations =   1014  |  Time =     2019  |  DT =    0.18  |  Ice Volume (km^3) =      13.19 \n",
            "IGM 07:22:28 : Iterations =   1020  |  Time =     2020  |  DT =    0.19  |  Ice Volume (km^3) =      12.91 \n",
            "IGM 07:22:28 : Iterations =   1026  |  Time =     2021  |  DT =    0.18  |  Ice Volume (km^3) =      12.98 \n",
            "IGM 07:22:29 : Iterations =   1032  |  Time =     2022  |  DT =    0.18  |  Ice Volume (km^3) =      12.87 \n",
            "IGM 07:22:29 : Iterations =   1038  |  Time =     2023  |  DT =    0.18  |  Ice Volume (km^3) =      12.69 \n",
            "IGM 07:22:29 : Iterations =   1044  |  Time =     2024  |  DT =    0.18  |  Ice Volume (km^3) =      12.60 \n",
            "IGM 07:22:29 : Iterations =   1050  |  Time =     2025  |  DT =    0.19  |  Ice Volume (km^3) =      12.28 \n",
            "IGM 07:22:30 : Iterations =   1056  |  Time =     2026  |  DT =    0.19  |  Ice Volume (km^3) =      12.22 \n",
            "IGM 07:22:30 : Iterations =   1062  |  Time =     2027  |  DT =    0.18  |  Ice Volume (km^3) =      12.11 \n",
            "IGM 07:22:30 : Iterations =   1068  |  Time =     2028  |  DT =    0.19  |  Ice Volume (km^3) =      11.95 \n",
            "IGM 07:22:30 : Iterations =   1074  |  Time =     2029  |  DT =    0.19  |  Ice Volume (km^3) =      11.67 \n",
            "IGM 07:22:31 : Iterations =   1080  |  Time =     2030  |  DT =    0.19  |  Ice Volume (km^3) =      11.60 \n",
            "IGM 07:22:31 : Iterations =   1086  |  Time =     2031  |  DT =    0.19  |  Ice Volume (km^3) =      11.58 \n",
            "IGM 07:22:31 : Iterations =   1092  |  Time =     2032  |  DT =    0.19  |  Ice Volume (km^3) =      11.34 \n",
            "IGM 07:22:31 : Iterations =   1098  |  Time =     2033  |  DT =    0.20  |  Ice Volume (km^3) =      11.07 \n",
            "IGM 07:22:31 : Iterations =   1104  |  Time =     2034  |  DT =    0.19  |  Ice Volume (km^3) =      11.03 \n",
            "IGM 07:22:32 : Iterations =   1109  |  Time =     2035  |  DT =    0.21  |  Ice Volume (km^3) =      10.62 \n",
            "IGM 07:22:32 : Iterations =   1114  |  Time =     2036  |  DT =    0.21  |  Ice Volume (km^3) =      10.53 \n",
            "IGM 07:22:32 : Iterations =   1119  |  Time =     2037  |  DT =    0.21  |  Ice Volume (km^3) =      10.46 \n",
            "IGM 07:22:32 : Iterations =   1124  |  Time =     2038  |  DT =    0.20  |  Ice Volume (km^3) =      10.37 \n",
            "IGM 07:22:32 : Iterations =   1129  |  Time =     2039  |  DT =    0.20  |  Ice Volume (km^3) =      10.26 \n",
            "IGM 07:22:33 : Iterations =   1134  |  Time =     2040  |  DT =    0.21  |  Ice Volume (km^3) =      10.04 \n",
            "IGM 07:22:33 : Iterations =   1139  |  Time =     2041  |  DT =    0.21  |  Ice Volume (km^3) =       9.91 \n",
            "IGM 07:22:33 : Iterations =   1144  |  Time =     2042  |  DT =    0.21  |  Ice Volume (km^3) =       9.72 \n",
            "IGM 07:22:33 : Iterations =   1149  |  Time =     2043  |  DT =    0.21  |  Ice Volume (km^3) =       9.71 \n",
            "IGM 07:22:33 : Iterations =   1154  |  Time =     2044  |  DT =    0.21  |  Ice Volume (km^3) =       9.49 \n",
            "IGM 07:22:33 : Iterations =   1159  |  Time =     2045  |  DT =    0.22  |  Ice Volume (km^3) =       9.15 \n",
            "IGM 07:22:34 : Iterations =   1164  |  Time =     2046  |  DT =    0.23  |  Ice Volume (km^3) =       8.96 \n",
            "IGM 07:22:34 : Iterations =   1169  |  Time =     2047  |  DT =    0.24  |  Ice Volume (km^3) =       8.66 \n",
            "IGM 07:22:34 : Iterations =   1174  |  Time =     2048  |  DT =    0.23  |  Ice Volume (km^3) =       8.61 \n",
            "IGM 07:22:34 : Iterations =   1179  |  Time =     2049  |  DT =    0.24  |  Ice Volume (km^3) =       8.35 \n",
            "IGM 07:22:34 : Iterations =   1184  |  Time =     2050  |  DT =    0.24  |  Ice Volume (km^3) =       8.29 \n",
            "IGM 07:22:35 : Iterations =   1189  |  Time =     2051  |  DT =    0.23  |  Ice Volume (km^3) =       8.19 \n",
            "IGM 07:22:35 : Iterations =   1194  |  Time =     2052  |  DT =    0.24  |  Ice Volume (km^3) =       8.04 \n",
            "IGM 07:22:35 : Iterations =   1199  |  Time =     2053  |  DT =    0.26  |  Ice Volume (km^3) =       7.74 \n",
            "IGM 07:22:35 : Iterations =   1203  |  Time =     2054  |  DT =    0.25  |  Ice Volume (km^3) =       7.64 \n",
            "IGM 07:22:35 : Iterations =   1207  |  Time =     2055  |  DT =    0.26  |  Ice Volume (km^3) =       7.50 \n",
            "IGM 07:22:35 : Iterations =   1211  |  Time =     2056  |  DT =    0.28  |  Ice Volume (km^3) =       7.13 \n",
            "IGM 07:22:36 : Iterations =   1215  |  Time =     2057  |  DT =    0.29  |  Ice Volume (km^3) =       6.92 \n",
            "IGM 07:22:36 : Iterations =   1219  |  Time =     2058  |  DT =    0.28  |  Ice Volume (km^3) =       6.91 \n",
            "IGM 07:22:36 : Iterations =   1223  |  Time =     2059  |  DT =    0.29  |  Ice Volume (km^3) =       6.70 \n",
            "IGM 07:22:36 : Iterations =   1227  |  Time =     2060  |  DT =    0.31  |  Ice Volume (km^3) =       6.48 \n",
            "IGM 07:22:36 : Iterations =   1231  |  Time =     2061  |  DT =    0.31  |  Ice Volume (km^3) =       6.35 \n",
            "IGM 07:22:36 : Iterations =   1235  |  Time =     2062  |  DT =    0.36  |  Ice Volume (km^3) =       5.98 \n",
            "IGM 07:22:36 : Iterations =   1238  |  Time =     2063  |  DT =    0.37  |  Ice Volume (km^3) =       5.75 \n",
            "IGM 07:22:37 : Iterations =   1241  |  Time =     2064  |  DT =    0.38  |  Ice Volume (km^3) =       5.64 \n",
            "IGM 07:22:37 : Iterations =   1244  |  Time =     2065  |  DT =    0.42  |  Ice Volume (km^3) =       5.30 \n",
            "IGM 07:22:37 : Iterations =   1247  |  Time =     2066  |  DT =    0.40  |  Ice Volume (km^3) =       5.34 \n",
            "IGM 07:22:37 : Iterations =   1250  |  Time =     2067  |  DT =    0.39  |  Ice Volume (km^3) =       5.29 \n",
            "IGM 07:22:37 : Iterations =   1253  |  Time =     2068  |  DT =    0.39  |  Ice Volume (km^3) =       5.19 \n",
            "IGM 07:22:37 : Iterations =   1256  |  Time =     2069  |  DT =    0.39  |  Ice Volume (km^3) =       5.16 \n",
            "IGM 07:22:37 : Iterations =   1259  |  Time =     2070  |  DT =    0.38  |  Ice Volume (km^3) =       5.10 \n",
            "IGM 07:22:38 : Iterations =   1262  |  Time =     2071  |  DT =    0.39  |  Ice Volume (km^3) =       4.98 \n",
            "IGM 07:22:38 : Iterations =   1265  |  Time =     2072  |  DT =    0.40  |  Ice Volume (km^3) =       4.89 \n",
            "IGM 07:22:38 : Iterations =   1268  |  Time =     2073  |  DT =    0.42  |  Ice Volume (km^3) =       4.75 \n",
            "IGM 07:22:38 : Iterations =   1271  |  Time =     2074  |  DT =    0.43  |  Ice Volume (km^3) =       4.65 \n",
            "IGM 07:22:38 : Iterations =   1274  |  Time =     2075  |  DT =    0.48  |  Ice Volume (km^3) =       4.44 \n",
            "IGM 07:22:38 : Iterations =   1277  |  Time =     2076  |  DT =    0.50  |  Ice Volume (km^3) =       4.34 \n",
            "IGM 07:22:38 : Iterations =   1279  |  Time =     2077  |  DT =    0.51  |  Ice Volume (km^3) =       4.22 \n",
            "IGM 07:22:39 : Iterations =   1281  |  Time =     2078  |  DT =    0.54  |  Ice Volume (km^3) =       4.01 \n",
            "IGM 07:22:39 : Iterations =   1283  |  Time =     2079  |  DT =    0.54  |  Ice Volume (km^3) =       4.16 \n",
            "IGM 07:22:39 : Iterations =   1285  |  Time =     2080  |  DT =    0.54  |  Ice Volume (km^3) =       3.95 \n",
            "IGM 07:22:39 : Iterations =   1287  |  Time =     2081  |  DT =    0.59  |  Ice Volume (km^3) =       3.71 \n",
            "IGM 07:22:39 : Iterations =   1289  |  Time =     2082  |  DT =    0.61  |  Ice Volume (km^3) =       3.68 \n",
            "IGM 07:22:39 : Iterations =   1291  |  Time =     2083  |  DT =    0.60  |  Ice Volume (km^3) =       3.72 \n",
            "IGM 07:22:39 : Iterations =   1293  |  Time =     2084  |  DT =    0.60  |  Ice Volume (km^3) =       3.69 \n",
            "IGM 07:22:39 : Iterations =   1295  |  Time =     2085  |  DT =    0.62  |  Ice Volume (km^3) =       3.60 \n",
            "IGM 07:22:39 : Iterations =   1297  |  Time =     2086  |  DT =    0.61  |  Ice Volume (km^3) =       3.64 \n",
            "IGM 07:22:40 : Iterations =   1299  |  Time =     2087  |  DT =    0.62  |  Ice Volume (km^3) =       3.55 \n",
            "IGM 07:22:40 : Iterations =   1301  |  Time =     2088  |  DT =    0.63  |  Ice Volume (km^3) =       3.53 \n",
            "IGM 07:22:40 : Iterations =   1303  |  Time =     2089  |  DT =    0.63  |  Ice Volume (km^3) =       3.52 \n",
            "IGM 07:22:40 : Iterations =   1305  |  Time =     2090  |  DT =    0.63  |  Ice Volume (km^3) =       3.54 \n",
            "IGM 07:22:40 : Iterations =   1307  |  Time =     2091  |  DT =    0.64  |  Ice Volume (km^3) =       3.48 \n",
            "IGM 07:22:40 : Iterations =   1309  |  Time =     2092  |  DT =    0.67  |  Ice Volume (km^3) =       3.37 \n",
            "IGM 07:22:40 : Iterations =   1311  |  Time =     2093  |  DT =    0.68  |  Ice Volume (km^3) =       3.40 \n",
            "IGM 07:22:40 : Iterations =   1313  |  Time =     2094  |  DT =    0.69  |  Ice Volume (km^3) =       3.35 \n",
            "IGM 07:22:41 : Iterations =   1315  |  Time =     2095  |  DT =    0.72  |  Ice Volume (km^3) =       3.23 \n",
            "IGM 07:22:41 : Iterations =   1317  |  Time =     2096  |  DT =    0.73  |  Ice Volume (km^3) =       3.24 \n",
            "IGM 07:22:41 : Iterations =   1319  |  Time =     2097  |  DT =    0.76  |  Ice Volume (km^3) =       3.16 \n",
            "IGM 07:22:41 : Iterations =   1321  |  Time =     2098  |  DT =    0.82  |  Ice Volume (km^3) =       3.04 \n",
            "IGM 07:22:41 : Iterations =   1323  |  Time =     2099  |  DT =    0.83  |  Ice Volume (km^3) =       3.05 \n",
            "IGM 07:22:41 : Iterations =   1325  |  Time =     2100  |  DT =    0.86  |  Ice Volume (km^3) =       3.01 \n",
            "Computational statistics report:\n",
            "                 All  |  mean time per it :   0.0345  |  total :  45.6857  |  number it  :     1324\n",
            "             Climate  |  mean time per it :   0.0038  |  total :   0.8252  |  number it  :      218\n",
            "        Mass balance  |  mean time per it :   0.0479  |  total :  10.4367  |  number it  :      218\n",
            "            Ice flow  |  mean time per it :   0.0149  |  total :  19.6806  |  number it  :     1324\n",
            "           Time step  |  mean time per it :   0.0030  |  total :   3.9696  |  number it  :     1323\n",
            "           Transport  |  mean time per it :   0.0029  |  total :   3.8398  |  number it  :     1323\n",
            "        Outputs ncdf  |  mean time per it :   0.0119  |  total :   2.6146  |  number it  :      219\n"
          ]
        }
      ],
      "source": [
        "with tf.device(glacier.device_name):\n",
        "\n",
        "    glacier.load_ncdf_data(glacier.config.geology_file)\n",
        "    \n",
        "    # load the surface toporgaphy available at given year\n",
        "    glacier.usurf.assign(vars(glacier)['surf_'+str(int(glacier.t))])\n",
        "    glacier.thk.assign(glacier.usurf-glacier.topg)\n",
        "    \n",
        "    glacier.initialize_fields() \n",
        "\n",
        "    while glacier.t < glacier.config.tend:\n",
        "        \n",
        "        glacier.tcomp[\"All\"].append(time.time())\n",
        "             \n",
        "        # For thes year, check the std between modelled and observed surfaces\n",
        "        if glacier.t in [1926,1957,1980,1999,2009,2017]:\n",
        "            diff = (glacier.usurf-vars(glacier)['surf_'+str(int(glacier.t))]).numpy()\n",
        "            diff = diff[glacier.thk>1]\n",
        "            mean  = np.mean(diff)\n",
        "            std   = np.std(diff)\n",
        "            vol   = np.sum(glacier.thk) * (glacier.dx ** 2) / 10 ** 9\n",
        "            print(\" Check modelled vs observed surface at time : %8.0f ; Mean discr. : %8.2f  ;  Std : %8.2f |  Ice volume : %8.2f \" \\\n",
        "                  % (glacier.t, mean, std, vol) )\n",
        "        \n",
        "        glacier.update_climate()\n",
        "        glacier.update_smb() \n",
        "        glacier.update_iceflow()\n",
        "        glacier.update_t_dt()\n",
        "        glacier.update_thk()\n",
        "        glacier.update_ncdf_ex()\n",
        "        glacier.update_ncdf_ts()\n",
        "        glacier.update_plot()\n",
        "        glacier.print_info()\n",
        "        \n",
        "        glacier.tcomp[\"All\"][-1] -= time.time()\n",
        "        glacier.tcomp[\"All\"][-1] *= -1\n",
        "        \n",
        "    glacier.print_all_comp_info()\n",
        "\n",
        "# vizualize\n",
        "glacier.animate_result('ex.nc','thk',save=True)\n",
        "glacier.animate_result('ex.nc','velsurf_mag',save=True)"
      ]
    },
    {
      "cell_type": "markdown",
      "metadata": {
        "id": "19zJqae0FwvC"
      },
      "source": [
        "We have now modelled 220 years of evolution of the Great Aletsch Glacier at 100-meter resolution in about one minute. IGM monitors key variables (ice volume, time step) during computation, and provide STDs between modelled and observed ice surfaces in some years. Melt factors were tuned to keep this STD fairly small (below 35 m). The next code permits to vizualize the simulation.\n"
      ]
    },
    {
      "cell_type": "code",
      "execution_count": null,
      "metadata": {
        "id": "bMfqATiPGzSZ",
        "colab": {
          "base_uri": "https://localhost:8080/",
          "height": 540
        },
        "outputId": "096f5915-2088-4675-8c21-4e6a73de2627"
      },
      "outputs": [
        {
          "output_type": "error",
          "ename": "CalledProcessError",
          "evalue": "ignored",
          "traceback": [
            "\u001b[0;31m---------------------------------------------------------------------------\u001b[0m",
            "\u001b[0;31mKeyboardInterrupt\u001b[0m                         Traceback (most recent call last)",
            "\u001b[0;32m/usr/local/lib/python3.7/dist-packages/matplotlib/animation.py\u001b[0m in \u001b[0;36msaving\u001b[0;34m(self, fig, outfile, dpi, *args, **kwargs)\u001b[0m\n\u001b[1;32m    229\u001b[0m         \u001b[0;32mtry\u001b[0m\u001b[0;34m:\u001b[0m\u001b[0;34m\u001b[0m\u001b[0;34m\u001b[0m\u001b[0m\n\u001b[0;32m--> 230\u001b[0;31m             \u001b[0;32myield\u001b[0m \u001b[0mself\u001b[0m\u001b[0;34m\u001b[0m\u001b[0;34m\u001b[0m\u001b[0m\n\u001b[0m\u001b[1;32m    231\u001b[0m         \u001b[0;32mfinally\u001b[0m\u001b[0;34m:\u001b[0m\u001b[0;34m\u001b[0m\u001b[0;34m\u001b[0m\u001b[0m\n",
            "\u001b[0;32m/usr/local/lib/python3.7/dist-packages/matplotlib/animation.py\u001b[0m in \u001b[0;36msave\u001b[0;34m(self, filename, writer, fps, dpi, codec, bitrate, extra_args, metadata, extra_anim, savefig_kwargs, progress_callback)\u001b[0m\n\u001b[1;32m   1147\u001b[0m                         \u001b[0;31m# TODO: See if turning off blit is really necessary\u001b[0m\u001b[0;34m\u001b[0m\u001b[0;34m\u001b[0m\u001b[0;34m\u001b[0m\u001b[0m\n\u001b[0;32m-> 1148\u001b[0;31m                         \u001b[0manim\u001b[0m\u001b[0;34m.\u001b[0m\u001b[0m_draw_next_frame\u001b[0m\u001b[0;34m(\u001b[0m\u001b[0md\u001b[0m\u001b[0;34m,\u001b[0m \u001b[0mblit\u001b[0m\u001b[0;34m=\u001b[0m\u001b[0;32mFalse\u001b[0m\u001b[0;34m)\u001b[0m\u001b[0;34m\u001b[0m\u001b[0;34m\u001b[0m\u001b[0m\n\u001b[0m\u001b[1;32m   1149\u001b[0m                         \u001b[0;32mif\u001b[0m \u001b[0mprogress_callback\u001b[0m \u001b[0;32mis\u001b[0m \u001b[0;32mnot\u001b[0m \u001b[0;32mNone\u001b[0m\u001b[0;34m:\u001b[0m\u001b[0;34m\u001b[0m\u001b[0;34m\u001b[0m\u001b[0m\n",
            "\u001b[0;32m/usr/local/lib/python3.7/dist-packages/matplotlib/animation.py\u001b[0m in \u001b[0;36m_draw_next_frame\u001b[0;34m(self, framedata, blit)\u001b[0m\n\u001b[1;32m   1188\u001b[0m         \u001b[0mself\u001b[0m\u001b[0;34m.\u001b[0m\u001b[0m_draw_frame\u001b[0m\u001b[0;34m(\u001b[0m\u001b[0mframedata\u001b[0m\u001b[0;34m)\u001b[0m\u001b[0;34m\u001b[0m\u001b[0;34m\u001b[0m\u001b[0m\n\u001b[0;32m-> 1189\u001b[0;31m         \u001b[0mself\u001b[0m\u001b[0;34m.\u001b[0m\u001b[0m_post_draw\u001b[0m\u001b[0;34m(\u001b[0m\u001b[0mframedata\u001b[0m\u001b[0;34m,\u001b[0m \u001b[0mblit\u001b[0m\u001b[0;34m)\u001b[0m\u001b[0;34m\u001b[0m\u001b[0;34m\u001b[0m\u001b[0m\n\u001b[0m\u001b[1;32m   1190\u001b[0m \u001b[0;34m\u001b[0m\u001b[0m\n",
            "\u001b[0;32m/usr/local/lib/python3.7/dist-packages/matplotlib/animation.py\u001b[0m in \u001b[0;36m_post_draw\u001b[0;34m(self, framedata, blit)\u001b[0m\n\u001b[1;32m   1213\u001b[0m         \u001b[0;32melse\u001b[0m\u001b[0;34m:\u001b[0m\u001b[0;34m\u001b[0m\u001b[0;34m\u001b[0m\u001b[0m\n\u001b[0;32m-> 1214\u001b[0;31m             \u001b[0mself\u001b[0m\u001b[0;34m.\u001b[0m\u001b[0m_fig\u001b[0m\u001b[0;34m.\u001b[0m\u001b[0mcanvas\u001b[0m\u001b[0;34m.\u001b[0m\u001b[0mdraw_idle\u001b[0m\u001b[0;34m(\u001b[0m\u001b[0;34m)\u001b[0m\u001b[0;34m\u001b[0m\u001b[0;34m\u001b[0m\u001b[0m\n\u001b[0m\u001b[1;32m   1215\u001b[0m \u001b[0;34m\u001b[0m\u001b[0m\n",
            "\u001b[0;32m/usr/local/lib/python3.7/dist-packages/matplotlib/backend_bases.py\u001b[0m in \u001b[0;36mdraw_idle\u001b[0;34m(self, *args, **kwargs)\u001b[0m\n\u001b[1;32m   1946\u001b[0m             \u001b[0;32mwith\u001b[0m \u001b[0mself\u001b[0m\u001b[0;34m.\u001b[0m\u001b[0m_idle_draw_cntx\u001b[0m\u001b[0;34m(\u001b[0m\u001b[0;34m)\u001b[0m\u001b[0;34m:\u001b[0m\u001b[0;34m\u001b[0m\u001b[0;34m\u001b[0m\u001b[0m\n\u001b[0;32m-> 1947\u001b[0;31m                 \u001b[0mself\u001b[0m\u001b[0;34m.\u001b[0m\u001b[0mdraw\u001b[0m\u001b[0;34m(\u001b[0m\u001b[0;34m*\u001b[0m\u001b[0margs\u001b[0m\u001b[0;34m,\u001b[0m \u001b[0;34m**\u001b[0m\u001b[0mkwargs\u001b[0m\u001b[0;34m)\u001b[0m\u001b[0;34m\u001b[0m\u001b[0;34m\u001b[0m\u001b[0m\n\u001b[0m\u001b[1;32m   1948\u001b[0m \u001b[0;34m\u001b[0m\u001b[0m\n",
            "\u001b[0;32m/usr/local/lib/python3.7/dist-packages/matplotlib/backends/backend_agg.py\u001b[0m in \u001b[0;36mdraw\u001b[0;34m(self)\u001b[0m\n\u001b[1;32m    392\u001b[0m               else nullcontext()):\n\u001b[0;32m--> 393\u001b[0;31m             \u001b[0mself\u001b[0m\u001b[0;34m.\u001b[0m\u001b[0mfigure\u001b[0m\u001b[0;34m.\u001b[0m\u001b[0mdraw\u001b[0m\u001b[0;34m(\u001b[0m\u001b[0mself\u001b[0m\u001b[0;34m.\u001b[0m\u001b[0mrenderer\u001b[0m\u001b[0;34m)\u001b[0m\u001b[0;34m\u001b[0m\u001b[0;34m\u001b[0m\u001b[0m\n\u001b[0m\u001b[1;32m    394\u001b[0m             \u001b[0;31m# A GUI class may be need to update a window using this draw, so\u001b[0m\u001b[0;34m\u001b[0m\u001b[0;34m\u001b[0m\u001b[0;34m\u001b[0m\u001b[0m\n",
            "\u001b[0;32m/usr/local/lib/python3.7/dist-packages/matplotlib/artist.py\u001b[0m in \u001b[0;36mdraw_wrapper\u001b[0;34m(artist, renderer, *args, **kwargs)\u001b[0m\n\u001b[1;32m     37\u001b[0m \u001b[0;34m\u001b[0m\u001b[0m\n\u001b[0;32m---> 38\u001b[0;31m             \u001b[0;32mreturn\u001b[0m \u001b[0mdraw\u001b[0m\u001b[0;34m(\u001b[0m\u001b[0martist\u001b[0m\u001b[0;34m,\u001b[0m \u001b[0mrenderer\u001b[0m\u001b[0;34m,\u001b[0m \u001b[0;34m*\u001b[0m\u001b[0margs\u001b[0m\u001b[0;34m,\u001b[0m \u001b[0;34m**\u001b[0m\u001b[0mkwargs\u001b[0m\u001b[0;34m)\u001b[0m\u001b[0;34m\u001b[0m\u001b[0;34m\u001b[0m\u001b[0m\n\u001b[0m\u001b[1;32m     39\u001b[0m         \u001b[0;32mfinally\u001b[0m\u001b[0;34m:\u001b[0m\u001b[0;34m\u001b[0m\u001b[0;34m\u001b[0m\u001b[0m\n",
            "\u001b[0;32m/usr/local/lib/python3.7/dist-packages/matplotlib/figure.py\u001b[0m in \u001b[0;36mdraw\u001b[0;34m(self, renderer)\u001b[0m\n\u001b[1;32m   1735\u001b[0m             mimage._draw_list_compositing_images(\n\u001b[0;32m-> 1736\u001b[0;31m                 renderer, self, artists, self.suppressComposite)\n\u001b[0m\u001b[1;32m   1737\u001b[0m \u001b[0;34m\u001b[0m\u001b[0m\n",
            "\u001b[0;32m/usr/local/lib/python3.7/dist-packages/matplotlib/image.py\u001b[0m in \u001b[0;36m_draw_list_compositing_images\u001b[0;34m(renderer, parent, artists, suppress_composite)\u001b[0m\n\u001b[1;32m    136\u001b[0m         \u001b[0;32mfor\u001b[0m \u001b[0ma\u001b[0m \u001b[0;32min\u001b[0m \u001b[0martists\u001b[0m\u001b[0;34m:\u001b[0m\u001b[0;34m\u001b[0m\u001b[0;34m\u001b[0m\u001b[0m\n\u001b[0;32m--> 137\u001b[0;31m             \u001b[0ma\u001b[0m\u001b[0;34m.\u001b[0m\u001b[0mdraw\u001b[0m\u001b[0;34m(\u001b[0m\u001b[0mrenderer\u001b[0m\u001b[0;34m)\u001b[0m\u001b[0;34m\u001b[0m\u001b[0;34m\u001b[0m\u001b[0m\n\u001b[0m\u001b[1;32m    138\u001b[0m     \u001b[0;32melse\u001b[0m\u001b[0;34m:\u001b[0m\u001b[0;34m\u001b[0m\u001b[0;34m\u001b[0m\u001b[0m\n",
            "\u001b[0;32m/usr/local/lib/python3.7/dist-packages/matplotlib/artist.py\u001b[0m in \u001b[0;36mdraw_wrapper\u001b[0;34m(artist, renderer, *args, **kwargs)\u001b[0m\n\u001b[1;32m     37\u001b[0m \u001b[0;34m\u001b[0m\u001b[0m\n\u001b[0;32m---> 38\u001b[0;31m             \u001b[0;32mreturn\u001b[0m \u001b[0mdraw\u001b[0m\u001b[0;34m(\u001b[0m\u001b[0martist\u001b[0m\u001b[0;34m,\u001b[0m \u001b[0mrenderer\u001b[0m\u001b[0;34m,\u001b[0m \u001b[0;34m*\u001b[0m\u001b[0margs\u001b[0m\u001b[0;34m,\u001b[0m \u001b[0;34m**\u001b[0m\u001b[0mkwargs\u001b[0m\u001b[0;34m)\u001b[0m\u001b[0;34m\u001b[0m\u001b[0;34m\u001b[0m\u001b[0m\n\u001b[0m\u001b[1;32m     39\u001b[0m         \u001b[0;32mfinally\u001b[0m\u001b[0;34m:\u001b[0m\u001b[0;34m\u001b[0m\u001b[0;34m\u001b[0m\u001b[0m\n",
            "\u001b[0;32m/usr/local/lib/python3.7/dist-packages/matplotlib/axes/_base.py\u001b[0m in \u001b[0;36mdraw\u001b[0;34m(self, renderer, inframe)\u001b[0m\n\u001b[1;32m   2629\u001b[0m \u001b[0;34m\u001b[0m\u001b[0m\n\u001b[0;32m-> 2630\u001b[0;31m         \u001b[0mmimage\u001b[0m\u001b[0;34m.\u001b[0m\u001b[0m_draw_list_compositing_images\u001b[0m\u001b[0;34m(\u001b[0m\u001b[0mrenderer\u001b[0m\u001b[0;34m,\u001b[0m \u001b[0mself\u001b[0m\u001b[0;34m,\u001b[0m \u001b[0martists\u001b[0m\u001b[0;34m)\u001b[0m\u001b[0;34m\u001b[0m\u001b[0;34m\u001b[0m\u001b[0m\n\u001b[0m\u001b[1;32m   2631\u001b[0m \u001b[0;34m\u001b[0m\u001b[0m\n",
            "\u001b[0;32m/usr/local/lib/python3.7/dist-packages/matplotlib/image.py\u001b[0m in \u001b[0;36m_draw_list_compositing_images\u001b[0;34m(renderer, parent, artists, suppress_composite)\u001b[0m\n\u001b[1;32m    136\u001b[0m         \u001b[0;32mfor\u001b[0m \u001b[0ma\u001b[0m \u001b[0;32min\u001b[0m \u001b[0martists\u001b[0m\u001b[0;34m:\u001b[0m\u001b[0;34m\u001b[0m\u001b[0;34m\u001b[0m\u001b[0m\n\u001b[0;32m--> 137\u001b[0;31m             \u001b[0ma\u001b[0m\u001b[0;34m.\u001b[0m\u001b[0mdraw\u001b[0m\u001b[0;34m(\u001b[0m\u001b[0mrenderer\u001b[0m\u001b[0;34m)\u001b[0m\u001b[0;34m\u001b[0m\u001b[0;34m\u001b[0m\u001b[0m\n\u001b[0m\u001b[1;32m    138\u001b[0m     \u001b[0;32melse\u001b[0m\u001b[0;34m:\u001b[0m\u001b[0;34m\u001b[0m\u001b[0;34m\u001b[0m\u001b[0m\n",
            "\u001b[0;32m/usr/local/lib/python3.7/dist-packages/matplotlib/artist.py\u001b[0m in \u001b[0;36mdraw_wrapper\u001b[0;34m(artist, renderer, *args, **kwargs)\u001b[0m\n\u001b[1;32m     37\u001b[0m \u001b[0;34m\u001b[0m\u001b[0m\n\u001b[0;32m---> 38\u001b[0;31m             \u001b[0;32mreturn\u001b[0m \u001b[0mdraw\u001b[0m\u001b[0;34m(\u001b[0m\u001b[0martist\u001b[0m\u001b[0;34m,\u001b[0m \u001b[0mrenderer\u001b[0m\u001b[0;34m,\u001b[0m \u001b[0;34m*\u001b[0m\u001b[0margs\u001b[0m\u001b[0;34m,\u001b[0m \u001b[0;34m**\u001b[0m\u001b[0mkwargs\u001b[0m\u001b[0;34m)\u001b[0m\u001b[0;34m\u001b[0m\u001b[0;34m\u001b[0m\u001b[0m\n\u001b[0m\u001b[1;32m     39\u001b[0m         \u001b[0;32mfinally\u001b[0m\u001b[0;34m:\u001b[0m\u001b[0;34m\u001b[0m\u001b[0;34m\u001b[0m\u001b[0m\n",
            "\u001b[0;32m/usr/local/lib/python3.7/dist-packages/matplotlib/axis.py\u001b[0m in \u001b[0;36mdraw\u001b[0;34m(self, renderer, *args, **kwargs)\u001b[0m\n\u001b[1;32m   1231\u001b[0m         \u001b[0;32mfor\u001b[0m \u001b[0mtick\u001b[0m \u001b[0;32min\u001b[0m \u001b[0mticks_to_draw\u001b[0m\u001b[0;34m:\u001b[0m\u001b[0;34m\u001b[0m\u001b[0;34m\u001b[0m\u001b[0m\n\u001b[0;32m-> 1232\u001b[0;31m             \u001b[0mtick\u001b[0m\u001b[0;34m.\u001b[0m\u001b[0mdraw\u001b[0m\u001b[0;34m(\u001b[0m\u001b[0mrenderer\u001b[0m\u001b[0;34m)\u001b[0m\u001b[0;34m\u001b[0m\u001b[0;34m\u001b[0m\u001b[0m\n\u001b[0m\u001b[1;32m   1233\u001b[0m \u001b[0;34m\u001b[0m\u001b[0m\n",
            "\u001b[0;32m/usr/local/lib/python3.7/dist-packages/matplotlib/artist.py\u001b[0m in \u001b[0;36mdraw_wrapper\u001b[0;34m(artist, renderer, *args, **kwargs)\u001b[0m\n\u001b[1;32m     37\u001b[0m \u001b[0;34m\u001b[0m\u001b[0m\n\u001b[0;32m---> 38\u001b[0;31m             \u001b[0;32mreturn\u001b[0m \u001b[0mdraw\u001b[0m\u001b[0;34m(\u001b[0m\u001b[0martist\u001b[0m\u001b[0;34m,\u001b[0m \u001b[0mrenderer\u001b[0m\u001b[0;34m,\u001b[0m \u001b[0;34m*\u001b[0m\u001b[0margs\u001b[0m\u001b[0;34m,\u001b[0m \u001b[0;34m**\u001b[0m\u001b[0mkwargs\u001b[0m\u001b[0;34m)\u001b[0m\u001b[0;34m\u001b[0m\u001b[0;34m\u001b[0m\u001b[0m\n\u001b[0m\u001b[1;32m     39\u001b[0m         \u001b[0;32mfinally\u001b[0m\u001b[0;34m:\u001b[0m\u001b[0;34m\u001b[0m\u001b[0;34m\u001b[0m\u001b[0m\n",
            "\u001b[0;32m/usr/local/lib/python3.7/dist-packages/matplotlib/axis.py\u001b[0m in \u001b[0;36mdraw\u001b[0;34m(self, renderer)\u001b[0m\n\u001b[1;32m    296\u001b[0m                        self.label1, self.label2]:\n\u001b[0;32m--> 297\u001b[0;31m             \u001b[0martist\u001b[0m\u001b[0;34m.\u001b[0m\u001b[0mdraw\u001b[0m\u001b[0;34m(\u001b[0m\u001b[0mrenderer\u001b[0m\u001b[0;34m)\u001b[0m\u001b[0;34m\u001b[0m\u001b[0;34m\u001b[0m\u001b[0m\n\u001b[0m\u001b[1;32m    298\u001b[0m         \u001b[0mrenderer\u001b[0m\u001b[0;34m.\u001b[0m\u001b[0mclose_group\u001b[0m\u001b[0;34m(\u001b[0m\u001b[0mself\u001b[0m\u001b[0;34m.\u001b[0m\u001b[0m__name__\u001b[0m\u001b[0;34m)\u001b[0m\u001b[0;34m\u001b[0m\u001b[0;34m\u001b[0m\u001b[0m\n",
            "\u001b[0;32m/usr/local/lib/python3.7/dist-packages/matplotlib/artist.py\u001b[0m in \u001b[0;36mdraw_wrapper\u001b[0;34m(artist, renderer, *args, **kwargs)\u001b[0m\n\u001b[1;32m     37\u001b[0m \u001b[0;34m\u001b[0m\u001b[0m\n\u001b[0;32m---> 38\u001b[0;31m             \u001b[0;32mreturn\u001b[0m \u001b[0mdraw\u001b[0m\u001b[0;34m(\u001b[0m\u001b[0martist\u001b[0m\u001b[0;34m,\u001b[0m \u001b[0mrenderer\u001b[0m\u001b[0;34m,\u001b[0m \u001b[0;34m*\u001b[0m\u001b[0margs\u001b[0m\u001b[0;34m,\u001b[0m \u001b[0;34m**\u001b[0m\u001b[0mkwargs\u001b[0m\u001b[0;34m)\u001b[0m\u001b[0;34m\u001b[0m\u001b[0;34m\u001b[0m\u001b[0m\n\u001b[0m\u001b[1;32m     39\u001b[0m         \u001b[0;32mfinally\u001b[0m\u001b[0;34m:\u001b[0m\u001b[0;34m\u001b[0m\u001b[0;34m\u001b[0m\u001b[0m\n",
            "\u001b[0;32m/usr/local/lib/python3.7/dist-packages/matplotlib/lines.py\u001b[0m in \u001b[0;36mdraw\u001b[0;34m(self, renderer)\u001b[0m\n\u001b[1;32m    758\u001b[0m         \u001b[0;32mif\u001b[0m \u001b[0mself\u001b[0m\u001b[0;34m.\u001b[0m\u001b[0m_invalidy\u001b[0m \u001b[0;32mor\u001b[0m \u001b[0mself\u001b[0m\u001b[0;34m.\u001b[0m\u001b[0m_invalidx\u001b[0m\u001b[0;34m:\u001b[0m\u001b[0;34m\u001b[0m\u001b[0;34m\u001b[0m\u001b[0m\n\u001b[0;32m--> 759\u001b[0;31m             \u001b[0mself\u001b[0m\u001b[0;34m.\u001b[0m\u001b[0mrecache\u001b[0m\u001b[0;34m(\u001b[0m\u001b[0;34m)\u001b[0m\u001b[0;34m\u001b[0m\u001b[0;34m\u001b[0m\u001b[0m\n\u001b[0m\u001b[1;32m    760\u001b[0m         \u001b[0mself\u001b[0m\u001b[0;34m.\u001b[0m\u001b[0mind_offset\u001b[0m \u001b[0;34m=\u001b[0m \u001b[0;36m0\u001b[0m  \u001b[0;31m# Needed for contains() method.\u001b[0m\u001b[0;34m\u001b[0m\u001b[0;34m\u001b[0m\u001b[0m\n",
            "\u001b[0;32m/usr/local/lib/python3.7/dist-packages/matplotlib/lines.py\u001b[0m in \u001b[0;36mrecache\u001b[0;34m(self, always)\u001b[0m\n\u001b[1;32m    678\u001b[0m \u001b[0;34m\u001b[0m\u001b[0m\n\u001b[0;32m--> 679\u001b[0;31m         \u001b[0mself\u001b[0m\u001b[0;34m.\u001b[0m\u001b[0m_xy\u001b[0m \u001b[0;34m=\u001b[0m \u001b[0mnp\u001b[0m\u001b[0;34m.\u001b[0m\u001b[0mcolumn_stack\u001b[0m\u001b[0;34m(\u001b[0m\u001b[0mnp\u001b[0m\u001b[0;34m.\u001b[0m\u001b[0mbroadcast_arrays\u001b[0m\u001b[0;34m(\u001b[0m\u001b[0mx\u001b[0m\u001b[0;34m,\u001b[0m \u001b[0my\u001b[0m\u001b[0;34m)\u001b[0m\u001b[0;34m)\u001b[0m\u001b[0;34m.\u001b[0m\u001b[0mastype\u001b[0m\u001b[0;34m(\u001b[0m\u001b[0mfloat\u001b[0m\u001b[0;34m)\u001b[0m\u001b[0;34m\u001b[0m\u001b[0;34m\u001b[0m\u001b[0m\n\u001b[0m\u001b[1;32m    680\u001b[0m         \u001b[0mself\u001b[0m\u001b[0;34m.\u001b[0m\u001b[0m_x\u001b[0m\u001b[0;34m,\u001b[0m \u001b[0mself\u001b[0m\u001b[0;34m.\u001b[0m\u001b[0m_y\u001b[0m \u001b[0;34m=\u001b[0m \u001b[0mself\u001b[0m\u001b[0;34m.\u001b[0m\u001b[0m_xy\u001b[0m\u001b[0;34m.\u001b[0m\u001b[0mT\u001b[0m  \u001b[0;31m# views\u001b[0m\u001b[0;34m\u001b[0m\u001b[0;34m\u001b[0m\u001b[0m\n",
            "\u001b[0;32m<__array_function__ internals>\u001b[0m in \u001b[0;36mbroadcast_arrays\u001b[0;34m(*args, **kwargs)\u001b[0m\n",
            "\u001b[0;32m/usr/local/lib/python3.7/dist-packages/numpy/lib/stride_tricks.py\u001b[0m in \u001b[0;36mbroadcast_arrays\u001b[0;34m(subok, *args)\u001b[0m\n\u001b[1;32m    537\u001b[0m \u001b[0;34m\u001b[0m\u001b[0m\n\u001b[0;32m--> 538\u001b[0;31m     \u001b[0mshape\u001b[0m \u001b[0;34m=\u001b[0m \u001b[0m_broadcast_shape\u001b[0m\u001b[0;34m(\u001b[0m\u001b[0;34m*\u001b[0m\u001b[0margs\u001b[0m\u001b[0;34m)\u001b[0m\u001b[0;34m\u001b[0m\u001b[0;34m\u001b[0m\u001b[0m\n\u001b[0m\u001b[1;32m    539\u001b[0m \u001b[0;34m\u001b[0m\u001b[0m\n",
            "\u001b[0;32m/usr/local/lib/python3.7/dist-packages/numpy/lib/stride_tricks.py\u001b[0m in \u001b[0;36m_broadcast_shape\u001b[0;34m(*args)\u001b[0m\n\u001b[1;32m    427\u001b[0m         \u001b[0mb\u001b[0m \u001b[0;34m=\u001b[0m \u001b[0mnp\u001b[0m\u001b[0;34m.\u001b[0m\u001b[0mbroadcast\u001b[0m\u001b[0;34m(\u001b[0m\u001b[0mb\u001b[0m\u001b[0;34m,\u001b[0m \u001b[0;34m*\u001b[0m\u001b[0margs\u001b[0m\u001b[0;34m[\u001b[0m\u001b[0mpos\u001b[0m\u001b[0;34m:\u001b[0m\u001b[0;34m(\u001b[0m\u001b[0mpos\u001b[0m \u001b[0;34m+\u001b[0m \u001b[0;36m31\u001b[0m\u001b[0;34m)\u001b[0m\u001b[0;34m]\u001b[0m\u001b[0;34m)\u001b[0m\u001b[0;34m\u001b[0m\u001b[0;34m\u001b[0m\u001b[0m\n\u001b[0;32m--> 428\u001b[0;31m     \u001b[0;32mreturn\u001b[0m \u001b[0mb\u001b[0m\u001b[0;34m.\u001b[0m\u001b[0mshape\u001b[0m\u001b[0;34m\u001b[0m\u001b[0;34m\u001b[0m\u001b[0m\n\u001b[0m\u001b[1;32m    429\u001b[0m \u001b[0;34m\u001b[0m\u001b[0m\n",
            "\u001b[0;31mKeyboardInterrupt\u001b[0m: ",
            "\nDuring handling of the above exception, another exception occurred:\n",
            "\u001b[0;31mCalledProcessError\u001b[0m                        Traceback (most recent call last)",
            "\u001b[0;32m<ipython-input-5-44c08fc0febc>\u001b[0m in \u001b[0;36m<module>\u001b[0;34m()\u001b[0m\n\u001b[0;32m----> 1\u001b[0;31m \u001b[0migm\u001b[0m\u001b[0;34m.\u001b[0m\u001b[0manimate_result\u001b[0m\u001b[0;34m(\u001b[0m\u001b[0;34m'ex.nc'\u001b[0m\u001b[0;34m,\u001b[0m\u001b[0;34m'thk'\u001b[0m\u001b[0;34m,\u001b[0m\u001b[0msave\u001b[0m\u001b[0;34m=\u001b[0m\u001b[0;32mTrue\u001b[0m\u001b[0;34m)\u001b[0m\u001b[0;34m\u001b[0m\u001b[0;34m\u001b[0m\u001b[0m\n\u001b[0m\u001b[1;32m      2\u001b[0m \u001b[0;31m#igm.animate_result('ex.nc','velsurf_mag',save=True)\u001b[0m\u001b[0;34m\u001b[0m\u001b[0;34m\u001b[0m\u001b[0;34m\u001b[0m\u001b[0m\n",
            "\u001b[0;32m/content/igm.py\u001b[0m in \u001b[0;36manimate_result\u001b[0;34m(self, file, vari, save)\u001b[0m\n\u001b[1;32m   3288\u001b[0m         )  # interval in ms between frames\n\u001b[1;32m   3289\u001b[0m \u001b[0;34m\u001b[0m\u001b[0m\n\u001b[0;32m-> 3290\u001b[0;31m         \u001b[0mHTML\u001b[0m\u001b[0;34m(\u001b[0m\u001b[0mani\u001b[0m\u001b[0;34m.\u001b[0m\u001b[0mto_html5_video\u001b[0m\u001b[0;34m(\u001b[0m\u001b[0;34m)\u001b[0m\u001b[0;34m)\u001b[0m\u001b[0;34m\u001b[0m\u001b[0;34m\u001b[0m\u001b[0m\n\u001b[0m\u001b[1;32m   3291\u001b[0m \u001b[0;34m\u001b[0m\u001b[0m\n\u001b[1;32m   3292\u001b[0m         \u001b[0;31m# optionally the animation can be saved in avi\u001b[0m\u001b[0;34m\u001b[0m\u001b[0;34m\u001b[0m\u001b[0;34m\u001b[0m\u001b[0m\n",
            "\u001b[0;32m/usr/local/lib/python3.7/dist-packages/matplotlib/animation.py\u001b[0m in \u001b[0;36mto_html5_video\u001b[0;34m(self, embed_limit)\u001b[0m\n\u001b[1;32m   1330\u001b[0m                                 \u001b[0mbitrate\u001b[0m\u001b[0;34m=\u001b[0m\u001b[0mrcParams\u001b[0m\u001b[0;34m[\u001b[0m\u001b[0;34m'animation.bitrate'\u001b[0m\u001b[0;34m]\u001b[0m\u001b[0;34m,\u001b[0m\u001b[0;34m\u001b[0m\u001b[0;34m\u001b[0m\u001b[0m\n\u001b[1;32m   1331\u001b[0m                                 fps=1000. / self._interval)\n\u001b[0;32m-> 1332\u001b[0;31m                 \u001b[0mself\u001b[0m\u001b[0;34m.\u001b[0m\u001b[0msave\u001b[0m\u001b[0;34m(\u001b[0m\u001b[0mstr\u001b[0m\u001b[0;34m(\u001b[0m\u001b[0mpath\u001b[0m\u001b[0;34m)\u001b[0m\u001b[0;34m,\u001b[0m \u001b[0mwriter\u001b[0m\u001b[0;34m=\u001b[0m\u001b[0mwriter\u001b[0m\u001b[0;34m)\u001b[0m\u001b[0;34m\u001b[0m\u001b[0;34m\u001b[0m\u001b[0m\n\u001b[0m\u001b[1;32m   1333\u001b[0m                 \u001b[0;31m# Now open and base64 encode.\u001b[0m\u001b[0;34m\u001b[0m\u001b[0;34m\u001b[0m\u001b[0;34m\u001b[0m\u001b[0m\n\u001b[1;32m   1334\u001b[0m                 \u001b[0mvid64\u001b[0m \u001b[0;34m=\u001b[0m \u001b[0mbase64\u001b[0m\u001b[0;34m.\u001b[0m\u001b[0mencodebytes\u001b[0m\u001b[0;34m(\u001b[0m\u001b[0mpath\u001b[0m\u001b[0;34m.\u001b[0m\u001b[0mread_bytes\u001b[0m\u001b[0;34m(\u001b[0m\u001b[0;34m)\u001b[0m\u001b[0;34m)\u001b[0m\u001b[0;34m\u001b[0m\u001b[0;34m\u001b[0m\u001b[0m\n",
            "\u001b[0;32m/usr/local/lib/python3.7/dist-packages/matplotlib/animation.py\u001b[0m in \u001b[0;36msave\u001b[0;34m(self, filename, writer, fps, dpi, codec, bitrate, extra_args, metadata, extra_anim, savefig_kwargs, progress_callback)\u001b[0m\n\u001b[1;32m   1150\u001b[0m                             \u001b[0mprogress_callback\u001b[0m\u001b[0;34m(\u001b[0m\u001b[0mframe_number\u001b[0m\u001b[0;34m,\u001b[0m \u001b[0mtotal_frames\u001b[0m\u001b[0;34m)\u001b[0m\u001b[0;34m\u001b[0m\u001b[0;34m\u001b[0m\u001b[0m\n\u001b[1;32m   1151\u001b[0m                             \u001b[0mframe_number\u001b[0m \u001b[0;34m+=\u001b[0m \u001b[0;36m1\u001b[0m\u001b[0;34m\u001b[0m\u001b[0;34m\u001b[0m\u001b[0m\n\u001b[0;32m-> 1152\u001b[0;31m                     \u001b[0mwriter\u001b[0m\u001b[0;34m.\u001b[0m\u001b[0mgrab_frame\u001b[0m\u001b[0;34m(\u001b[0m\u001b[0;34m**\u001b[0m\u001b[0msavefig_kwargs\u001b[0m\u001b[0;34m)\u001b[0m\u001b[0;34m\u001b[0m\u001b[0;34m\u001b[0m\u001b[0m\n\u001b[0m\u001b[1;32m   1153\u001b[0m \u001b[0;34m\u001b[0m\u001b[0m\n\u001b[1;32m   1154\u001b[0m         \u001b[0;31m# Reconnect signal for first draw if necessary\u001b[0m\u001b[0;34m\u001b[0m\u001b[0;34m\u001b[0m\u001b[0;34m\u001b[0m\u001b[0m\n",
            "\u001b[0;32m/usr/lib/python3.7/contextlib.py\u001b[0m in \u001b[0;36m__exit__\u001b[0;34m(self, type, value, traceback)\u001b[0m\n\u001b[1;32m    128\u001b[0m                 \u001b[0mvalue\u001b[0m \u001b[0;34m=\u001b[0m \u001b[0mtype\u001b[0m\u001b[0;34m(\u001b[0m\u001b[0;34m)\u001b[0m\u001b[0;34m\u001b[0m\u001b[0;34m\u001b[0m\u001b[0m\n\u001b[1;32m    129\u001b[0m             \u001b[0;32mtry\u001b[0m\u001b[0;34m:\u001b[0m\u001b[0;34m\u001b[0m\u001b[0;34m\u001b[0m\u001b[0m\n\u001b[0;32m--> 130\u001b[0;31m                 \u001b[0mself\u001b[0m\u001b[0;34m.\u001b[0m\u001b[0mgen\u001b[0m\u001b[0;34m.\u001b[0m\u001b[0mthrow\u001b[0m\u001b[0;34m(\u001b[0m\u001b[0mtype\u001b[0m\u001b[0;34m,\u001b[0m \u001b[0mvalue\u001b[0m\u001b[0;34m,\u001b[0m \u001b[0mtraceback\u001b[0m\u001b[0;34m)\u001b[0m\u001b[0;34m\u001b[0m\u001b[0;34m\u001b[0m\u001b[0m\n\u001b[0m\u001b[1;32m    131\u001b[0m             \u001b[0;32mexcept\u001b[0m \u001b[0mStopIteration\u001b[0m \u001b[0;32mas\u001b[0m \u001b[0mexc\u001b[0m\u001b[0;34m:\u001b[0m\u001b[0;34m\u001b[0m\u001b[0;34m\u001b[0m\u001b[0m\n\u001b[1;32m    132\u001b[0m                 \u001b[0;31m# Suppress StopIteration *unless* it's the same exception that\u001b[0m\u001b[0;34m\u001b[0m\u001b[0;34m\u001b[0m\u001b[0;34m\u001b[0m\u001b[0m\n",
            "\u001b[0;32m/usr/local/lib/python3.7/dist-packages/matplotlib/animation.py\u001b[0m in \u001b[0;36msaving\u001b[0;34m(self, fig, outfile, dpi, *args, **kwargs)\u001b[0m\n\u001b[1;32m    230\u001b[0m             \u001b[0;32myield\u001b[0m \u001b[0mself\u001b[0m\u001b[0;34m\u001b[0m\u001b[0;34m\u001b[0m\u001b[0m\n\u001b[1;32m    231\u001b[0m         \u001b[0;32mfinally\u001b[0m\u001b[0;34m:\u001b[0m\u001b[0;34m\u001b[0m\u001b[0;34m\u001b[0m\u001b[0m\n\u001b[0;32m--> 232\u001b[0;31m             \u001b[0mself\u001b[0m\u001b[0;34m.\u001b[0m\u001b[0mfinish\u001b[0m\u001b[0;34m(\u001b[0m\u001b[0;34m)\u001b[0m\u001b[0;34m\u001b[0m\u001b[0;34m\u001b[0m\u001b[0m\n\u001b[0m\u001b[1;32m    233\u001b[0m \u001b[0;34m\u001b[0m\u001b[0m\n\u001b[1;32m    234\u001b[0m \u001b[0;34m\u001b[0m\u001b[0m\n",
            "\u001b[0;32m/usr/local/lib/python3.7/dist-packages/matplotlib/animation.py\u001b[0m in \u001b[0;36mfinish\u001b[0;34m(self)\u001b[0m\n\u001b[1;32m    366\u001b[0m     \u001b[0;32mdef\u001b[0m \u001b[0mfinish\u001b[0m\u001b[0;34m(\u001b[0m\u001b[0mself\u001b[0m\u001b[0;34m)\u001b[0m\u001b[0;34m:\u001b[0m\u001b[0;34m\u001b[0m\u001b[0;34m\u001b[0m\u001b[0m\n\u001b[1;32m    367\u001b[0m         \u001b[0;34m'''Finish any processing for writing the movie.'''\u001b[0m\u001b[0;34m\u001b[0m\u001b[0;34m\u001b[0m\u001b[0m\n\u001b[0;32m--> 368\u001b[0;31m         \u001b[0mself\u001b[0m\u001b[0;34m.\u001b[0m\u001b[0mcleanup\u001b[0m\u001b[0;34m(\u001b[0m\u001b[0;34m)\u001b[0m\u001b[0;34m\u001b[0m\u001b[0;34m\u001b[0m\u001b[0m\n\u001b[0m\u001b[1;32m    369\u001b[0m \u001b[0;34m\u001b[0m\u001b[0m\n\u001b[1;32m    370\u001b[0m     \u001b[0;32mdef\u001b[0m \u001b[0mgrab_frame\u001b[0m\u001b[0;34m(\u001b[0m\u001b[0mself\u001b[0m\u001b[0;34m,\u001b[0m \u001b[0;34m**\u001b[0m\u001b[0msavefig_kwargs\u001b[0m\u001b[0;34m)\u001b[0m\u001b[0;34m:\u001b[0m\u001b[0;34m\u001b[0m\u001b[0;34m\u001b[0m\u001b[0m\n",
            "\u001b[0;32m/usr/local/lib/python3.7/dist-packages/matplotlib/animation.py\u001b[0m in \u001b[0;36mcleanup\u001b[0;34m(self)\u001b[0m\n\u001b[1;32m    410\u001b[0m         \u001b[0;32mif\u001b[0m \u001b[0mself\u001b[0m\u001b[0;34m.\u001b[0m\u001b[0m_proc\u001b[0m\u001b[0;34m.\u001b[0m\u001b[0mreturncode\u001b[0m\u001b[0;34m:\u001b[0m\u001b[0;34m\u001b[0m\u001b[0;34m\u001b[0m\u001b[0m\n\u001b[1;32m    411\u001b[0m             raise subprocess.CalledProcessError(\n\u001b[0;32m--> 412\u001b[0;31m                 self._proc.returncode, self._proc.args, out, err)\n\u001b[0m\u001b[1;32m    413\u001b[0m \u001b[0;34m\u001b[0m\u001b[0m\n\u001b[1;32m    414\u001b[0m     \u001b[0;34m@\u001b[0m\u001b[0mclassmethod\u001b[0m\u001b[0;34m\u001b[0m\u001b[0;34m\u001b[0m\u001b[0m\n",
            "\u001b[0;31mCalledProcessError\u001b[0m: Command '['ffmpeg', '-f', 'rawvideo', '-vcodec', 'rawvideo', '-s', '1200x2044', '-pix_fmt', 'rgba', '-r', '10.0', '-loglevel', 'error', '-i', 'pipe:', '-vcodec', 'h264', '-pix_fmt', 'yuv420p', '-y', '/tmp/tmpg31p421n/temp.m4v']' returned non-zero exit status 255."
          ]
        }
      ],
      "source": [
        "glacier.animate_result('ex.nc','thk',save=True)\n",
        "#glacier.animate_result('ex.nc','velsurf_mag',save=True)"
      ]
    },
    {
      "cell_type": "code",
      "source": [
        "# always good to clean the space\n",
        "!rm ts.nc ex.nc igm-run-parameters.txt"
      ],
      "metadata": {
        "id": "R5BbrP7JAu7k"
      },
      "execution_count": null,
      "outputs": []
    },
    {
      "cell_type": "markdown",
      "source": [
        "Let's now change the mass balance moddel, and use a well-trained neural network trained from climate and mass balance data (from Aletsch Glacier). This can be seen as an alternative to the accumulation / melt model. Therefore, you must set igm.config.type_mass_balance to 'nn', provide a valid path for the mass balance emulator igm.config.smb_model_lib_path, and also force monthly climate inputs (instead of daily) setting igm.config.clim_time_resolution to 12."
      ],
      "metadata": {
        "id": "IuDz1fZeCZw3"
      }
    },
    {
      "cell_type": "code",
      "source": [
        "# get the SMB emulator\n",
        "!svn export https://github.com/jouvetg/igm/trunk/model-lib/smb1_meteoswissglamos_GJ_21_a\n",
        "\n",
        "# option 2: emulated smb model by a CNN -- uncoment these lines\n",
        "glacier.config.smb_model_lib_path    = 'smb1_meteoswissglamos_GJ_21_a'\n",
        "glacier.config.type_mass_balance     = 'nn'\n",
        "glacier.config.clim_time_resolution  = 12\n",
        "glacier.config.tstart                = 2017\n",
        "glacier.config.tend                  = 2100"
      ],
      "metadata": {
        "id": "7VQ6y140CXcX"
      },
      "execution_count": null,
      "outputs": []
    },
    {
      "cell_type": "markdown",
      "source": [
        "Then simply launch IGM time evolution:"
      ],
      "metadata": {
        "id": "zBSTKgvaFSCS"
      }
    },
    {
      "cell_type": "code",
      "source": [
        "glacier.run()"
      ],
      "metadata": {
        "id": "CISJxC9eFKdG"
      },
      "execution_count": null,
      "outputs": []
    },
    {
      "cell_type": "markdown",
      "source": [
        "The simulation shows slightly higher volumes (compared to before), but does not lead to substantially different results."
      ],
      "metadata": {
        "id": "Gy5B_2WGFeS9"
      }
    },
    {
      "cell_type": "code",
      "source": [
        "# clean all\n",
        "! rm -r f15_cfsflow_GJ_22_a smb1_meteoswissglamos_GJ_21_a __pycache__ ex-*.mp4 \n",
        "! rm *.nc  *.py *.dat *.txt"
      ],
      "metadata": {
        "id": "_FeAds0UDvBq",
        "outputId": "58e7c117-c17d-423e-fc31-8f87b5543a30",
        "colab": {
          "base_uri": "https://localhost:8080/"
        }
      },
      "execution_count": null,
      "outputs": [
        {
          "output_type": "stream",
          "name": "stdout",
          "text": [
            "rm: cannot remove 'f15_cfsflow_GJ_22_a': No such file or directory\n",
            "rm: cannot remove 'smb1_meteoswissglamos_GJ_21_a': No such file or directory\n",
            "rm: cannot remove '__pycache__': No such file or directory\n",
            "rm: cannot remove '*.nc': No such file or directory\n",
            "rm: cannot remove '*.py': No such file or directory\n",
            "rm: cannot remove '*.dat': No such file or directory\n",
            "rm: cannot remove '*.txt': No such file or directory\n"
          ]
        }
      ]
    }
  ],
  "metadata": {
    "kernelspec": {
      "display_name": "Python 3",
      "language": "python",
      "name": "python3"
    },
    "language_info": {
      "codemirror_mode": {
        "name": "ipython",
        "version": 3
      },
      "file_extension": ".py",
      "mimetype": "text/x-python",
      "name": "python",
      "nbconvert_exporter": "python",
      "pygments_lexer": "ipython3",
      "version": "3.8.10"
    },
    "colab": {
      "name": "IGM-aletsch-1880-2100.ipynb",
      "provenance": [],
      "collapsed_sections": [],
      "include_colab_link": true
    },
    "accelerator": "GPU"
  },
  "nbformat": 4,
  "nbformat_minor": 0
}