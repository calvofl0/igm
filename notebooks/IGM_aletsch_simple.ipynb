{
  "cells": [
    {
      "cell_type": "markdown",
      "metadata": {
        "id": "view-in-github",
        "colab_type": "text"
      },
      "source": [
        "<a href=\"https://colab.research.google.com/github/jouvetg/igm/blob/main/notebooks/IGM_aletsch_simple.ipynb\" target=\"_parent\"><img src=\"https://colab.research.google.com/assets/colab-badge.svg\" alt=\"Open In Colab\"/></a>"
      ]
    },
    {
      "cell_type": "markdown",
      "metadata": {
        "id": "yNJyXmfZFwui"
      },
      "source": [
        "### <h1 align=\"center\" id=\"title\">IGM notebook tutorial (aletsch-simple) </h1>"
      ]
    },
    {
      "cell_type": "markdown",
      "metadata": {
        "id": "_k8QkmWJFwun"
      },
      "source": [
        "This tutorial aims to guide you modelling the great Aletsch Glacier, Switzerland, in a very simple set-up with the Instructed Glacier Model (IGM)."
      ]
    },
    {
      "cell_type": "markdown",
      "metadata": {
        "id": "zqCnDfEVFwup"
      },
      "source": [
        "Let us firt download the IGM code, ice flow emulator, and input data"
      ]
    },
    {
      "cell_type": "code",
      "execution_count": null,
      "metadata": {
        "id": "AA53z4jiFwur"
      },
      "outputs": [],
      "source": [
        "# get the core source of igm (in igm.py)\n",
        "!wget -nv -O igm.py https://raw.githubusercontent.com/jouvetg/igm/main/src/igm.py\n",
        "\n",
        "# get input data\n",
        "!wget -nv -O geology.nc https://raw.githubusercontent.com/jouvetg/igm/main/examples/aletsch-simple/geology.nc\n",
        "!wget -nv -O mb_simple_param.txt https://raw.githubusercontent.com/jouvetg/igm/main/examples/aletsch-simple/mb_simple_param.txt\n",
        "\n",
        "# get the ice flow emulator\n",
        "!apt install subversion\n",
        "!svn export https://github.com/jouvetg/igm/trunk/model-lib/f15_cfsflow_GJ_22_a\n"
      ]
    },
    {
      "cell_type": "markdown",
      "metadata": {
        "id": "loGdyGBAFwuw"
      },
      "source": [
        "In the first set-up, we take top ice surface topography and (zero) ice thickness defined in geology.nc, and force IGM with mass balance parameters defined in mb_simple_param.txt."
      ]
    },
    {
      "cell_type": "markdown",
      "metadata": {
        "id": "VR1oNvLvFwuz"
      },
      "source": [
        "First, we import necessary libraries, check the version of tensorflow, and inport the class igm (defined in igm.py), and create an igm object."
      ]
    },
    {
      "cell_type": "code",
      "execution_count": null,
      "metadata": {
        "id": "HcpUnDWpFwu1"
      },
      "outputs": [],
      "source": [
        "import sys\n",
        "import matplotlib.pyplot as plt\n",
        "import numpy as np\n",
        "import tensorflow as tf\n",
        "print('TF version is ',tf.__version__)\n",
        "sys.argv = ['']  # this is absolutly necessary in Jupyter notebook\n",
        "from igm import Igm\n",
        "glacier=Igm() # create an object glacier"
      ]
    },
    {
      "cell_type": "markdown",
      "source": [
        "Altough, you don't have to, it is highly recommended to run under GPU (click above 'Runtime' -> 'Change Runtime type' -> Activate GPU). Then the fowllowing comand check that a GPU is indeed available, and give the name of the GPU. (With the free veryion of colab these GPU are often old and not that efficient -- like the K80 --, IGM would typically run faster on new material)"
      ],
      "metadata": {
        "id": "lu5f4fKIBvSP"
      }
    },
    {
      "cell_type": "code",
      "source": [
        "from tensorflow.python.client import device_lib\n",
        "device_lib.list_local_devices()"
      ],
      "metadata": {
        "id": "WDY_gBz5Mso1"
      },
      "execution_count": null,
      "outputs": []
    },
    {
      "cell_type": "markdown",
      "metadata": {
        "id": "BS3gGxl0Fwu3"
      },
      "source": [
        "Next, we overide the default configuration parameters, initialize the class, and check at the parameters"
      ]
    },
    {
      "cell_type": "code",
      "execution_count": null,
      "metadata": {
        "scrolled": true,
        "id": "h6nntbjDFwu5"
      },
      "outputs": [],
      "source": [
        "glacier.config.tstart            = 1000  # we start at time t=1000\n",
        "glacier.config.tend              = 1250  # we end at time   t=1250\n",
        "glacier.config.tsave             = 5     # we save result each 5 years\n",
        "glacier.config.init_slidingco    = 12\n",
        "glacier.config.init_arrhenius    = 78\n",
        "glacier.config.iceflow_model_lib_path  = 'f15_cfsflow_GJ_22_a' # we provide the path for th ice flow emultor\n",
        "glacier.config.type_mass_balance = 'simple' # we use the 'simple' ELA-parametrized SMB model\n",
        "glacier.config.mb_simple_file    = 'mb_simple_param.txt' # this is the file where are defined the SMB params.\n",
        "glacier.config.usegpu            = True # we do not use the GPU for the first run\n",
        "glacier.config.plot_live         = False # we do not plot the result life, but vizualize a posteriori\n",
        "glacier.config.plot_result       = False # we do not plot the result life, but vizualize a posteriori"
      ]
    },
    {
      "cell_type": "markdown",
      "metadata": {
        "id": "puHkT8XGFwu-"
      },
      "source": [
        "Now we run the IGM time evolution workflow :\n"
      ]
    },
    {
      "cell_type": "code",
      "execution_count": null,
      "metadata": {
        "id": "sye7i4scFwvA"
      },
      "outputs": [],
      "source": [
        "glacier.initialize() \n",
        "with tf.device(glacier.device_name):\n",
        "    glacier.load_ncdf_data(glacier.config.geology_file)\n",
        "    glacier.initialize_fields()               \n",
        "    while glacier.t < glacier.config.tend:                       \n",
        "        glacier.update_smb()\n",
        "        glacier.update_iceflow()\n",
        "        glacier.update_t_dt() \n",
        "        glacier.update_thk()       \n",
        "        glacier.update_ncdf_ex()\n",
        "        glacier.update_ncdf_ts()\n",
        "        glacier.update_plot()\n",
        "        glacier.print_info()\n",
        "        \n",
        "glacier.print_all_comp_info()"
      ]
    },
    {
      "cell_type": "markdown",
      "metadata": {
        "id": "19zJqae0FwvC"
      },
      "source": [
        "We have now modelled 250 years of evolution of the Great Aletsch Glacier in less than a minute! (this would take < 15 sec on modern GPU). IGM monitors key variables (ice volume, time step) during computation you can monitor, and gives a statatistic of the computational cost of each mdel components at the end. The results were stored in ex.nc. Now we can vizualize the results (ice thickness, ice speed, or more) in form of an animation.\n",
        "\n"
      ]
    },
    {
      "cell_type": "code",
      "execution_count": null,
      "metadata": {
        "id": "bMfqATiPGzSZ"
      },
      "outputs": [],
      "source": [
        "igm.animate_result('ex.nc','thk',save=True)\n",
        "#igm.animate_result('ex.nc','velsurf_mag',save=True)"
      ]
    },
    {
      "cell_type": "markdown",
      "metadata": {
        "id": "zBmymAdjFwvG"
      },
      "source": [
        "igm.config.type_mass_balance = 'sinus'\n",
        "Now, we may custumize your our mass balance function with an oscillating ELA. For that, you can define a function of the class igm, and make sure to activate the corresponding keywork in igm.config.type_mass_balance"
      ]
    },
    {
      "cell_type": "code",
      "execution_count": null,
      "metadata": {
        "id": "YBFBF596FwvI"
      },
      "outputs": [],
      "source": [
        "!rm ex.nc"
      ]
    },
    {
      "cell_type": "code",
      "execution_count": null,
      "metadata": {
        "id": "WdIRca4LFwvG"
      },
      "outputs": [],
      "source": [
        "from igm import Igm\n",
        "import math\n",
        "\n",
        "class Igm(Igm):\n",
        "\n",
        "    def update_smb_sinus(self):\n",
        "        \"\"\"\n",
        "            mass balance 'sinus'\n",
        "        \"\"\"\n",
        "\n",
        "        ela     = 2800 + 500*math.sin((self.t/50)*math.pi)\n",
        "        gradabl = 0.009\n",
        "        gradacc = 0.005\n",
        "        maxacc  = 2.0\n",
        "\n",
        "        smb = self.usurf - ela\n",
        "        smb *= tf.where(tf.less(smb, 0), gradabl, gradacc)\n",
        "        smb = tf.clip_by_value(smb, -100, maxacc)\n",
        "        smb = tf.where(self.icemask>0.5, smb, -10 )\n",
        "\n",
        "        self.smb.assign( smb )\n",
        "\n",
        "glacier = Igm()\n",
        "\n",
        "glacier.config.tstart                 = 0\n",
        "glacier.config.tend                   = 500\n",
        "glacier.config.tsave                  = 2\n",
        "glacier.config.cfl                    = 0.5\n",
        "glacier.config.init_slidingco         = 12\n",
        "glacier.config.init_arrhenius         = 78\n",
        "glacier.config.iceflow_model_lib_path = 'f15_cfsflow_GJ_22_a'\n",
        "glacier.config.type_mass_balance      = 'sinus'\n",
        "glacier.config.usegpu                 = True\n",
        "\n",
        "glacier.initialize() \n",
        "with tf.device(glacier.device_name):\n",
        "    glacier.load_ncdf_data(igm.config.geology_file)\n",
        "    glacier.initialize_fields()               \n",
        "    while glacier.t < glacier.config.tend:                       \n",
        "        glacier.update_smb()\n",
        "        glacier.update_iceflow()\n",
        "        glacier.update_t_dt() \n",
        "        glacier.update_thk()       \n",
        "        glacier.update_ncdf_ex()\n",
        "        glacier.update_ncdf_ts()\n",
        "        glacier.update_plot()\n",
        "        glacier.print_info()\n",
        "        \n",
        "glacier.print_all_comp_info()"
      ]
    }
  ],
  "metadata": {
    "kernelspec": {
      "display_name": "Python 3",
      "language": "python",
      "name": "python3"
    },
    "language_info": {
      "codemirror_mode": {
        "name": "ipython",
        "version": 3
      },
      "file_extension": ".py",
      "mimetype": "text/x-python",
      "name": "python",
      "nbconvert_exporter": "python",
      "pygments_lexer": "ipython3",
      "version": "3.8.10"
    },
    "colab": {
      "name": "theIGMnotebook.ipynb",
      "provenance": [],
      "collapsed_sections": [],
      "include_colab_link": true
    },
    "accelerator": "GPU"
  },
  "nbformat": 4,
  "nbformat_minor": 0
}