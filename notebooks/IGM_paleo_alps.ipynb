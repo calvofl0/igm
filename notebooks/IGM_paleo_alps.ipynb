{
  "cells": [
    {
      "cell_type": "markdown",
      "metadata": {
        "id": "view-in-github",
        "colab_type": "text"
      },
      "source": [
        "<a href=\"https://colab.research.google.com/github/jouvetg/igm/blob/main/notebooks/IGM_paleo_alps.ipynb\" target=\"_parent\"><img src=\"https://colab.research.google.com/assets/colab-badge.svg\" alt=\"Open In Colab\"/></a>"
      ]
    },
    {
      "cell_type": "markdown",
      "metadata": {
        "id": "0MbEbkSRc4z5"
      },
      "source": [
        "### <h1 align=\"center\" id=\"title\">IGM set-up for paleo runs in the Alps</h1>"
      ]
    },
    {
      "cell_type": "markdown",
      "source": [
        "This notebook gives a simple set-up to run a paleo glacier model in the Alps in paleo times with different catchements with IGM (the Instructed Glacier Model). Check at https://github.com/jouvetg/igm for more info. MAKE SURE that you have activated a GPU (click on Runtime -> Change Runtime type -> select GPU)"
      ],
      "metadata": {
        "id": "PuvTfxq9B8Hj"
      }
    },
    {
      "cell_type": "markdown",
      "source": [
        "First choose your areas among lyon, ticino, rhine, linth glaciers and choose the spatial resolution  (keep it coarse like 2000 for testing)"
      ],
      "metadata": {
        "id": "P3ilyvmkiTlf"
      }
    },
    {
      "cell_type": "code",
      "source": [
        "!pip install importlib-metadata==4.13.0\n",
        "\n",
        "area = 'linth' # chose your area among lyon, linth, rhine, ticino\n",
        "reso = 2000    # chose your resolution among 200,1000, 2000 meters (keep it coarse like 2000 for testing)"
      ],
      "metadata": {
        "id": "tKC6_QDg-cRl"
      },
      "execution_count": 6,
      "outputs": []
    },
    {
      "cell_type": "markdown",
      "metadata": {
        "id": "tvTnSrIXdght"
      },
      "source": [
        "First we download the data"
      ]
    },
    {
      "cell_type": "code",
      "execution_count": null,
      "metadata": {
        "id": "Xv6YMTbYTLkt"
      },
      "outputs": [],
      "source": [
        "# clean old staff if any\n",
        "!rm -r f12_cfsflow_GJ_21_a f14_pism_GJ_21_a  __pycache__ data-for-paleo-tuto\n",
        "!rm  *.nc  *.py *.dat *.txt *.zip\n",
        "\n",
        "!apt install subversion\n",
        "\n",
        "# get the core source of igm (in igm.py)\n",
        "!wget -O igm.py https://raw.githubusercontent.com/jouvetg/igm/main/src/igm.py\n",
        "\n",
        "# get the data (topography of the area + climate signal dta file)\n",
        "!svn export https://github.com/jouvetg/igm/trunk/examples/paleo-alps/data-for-paleo-tuto\n",
        "\n",
        "# get the ice flow DL-emulator at 1 and 2 km\n",
        "!svn export https://github.com/jouvetg/igm/trunk/model-lib/f14_pism_GJ_21_a\n",
        "\n",
        "# get the ice flow DL-emulator at 100 and 200 meter\n",
        "!svn export https://github.com/jouvetg/igm/trunk/model-lib/f12_cfsflow_GJ_21_a"
      ]
    },
    {
      "cell_type": "markdown",
      "source": [
        "Let's import necessary libraries (you may also check what GPU you have been attributed, usually old slow K80 GPU with free colab, or fast T100 with the pro version, which costs 10 $ / months)."
      ],
      "metadata": {
        "id": "hOB7NI8PRJwC"
      }
    },
    {
      "cell_type": "code",
      "source": [
        "import tensorflow as tf\n",
        "import math\n",
        "from igm import Igm\n",
        "import numpy as np\n",
        "from scipy.interpolate import interp1d\n",
        "from netCDF4 import Dataset\n",
        "from scipy.interpolate import RectBivariateSpline\n",
        "import matplotlib.pyplot as plt\n",
        "import sys\n",
        "\n",
        "sys.argv = ['']  # this is absolutly necessary for runs in notebooks\n",
        "\n",
        "# Uncomment this if oyu want to check what GPU you are working on\n",
        "#from tensorflow.python.client import device_lib\n",
        "#device_lib.list_local_devices()"
      ],
      "metadata": {
        "id": "zhobNWAsTDGw"
      },
      "execution_count": 2,
      "outputs": []
    },
    {
      "cell_type": "markdown",
      "source": [
        "To force the surface mass balance (SMB), we use the EPICA climate signal, and parametize the ELA as function of the EPICA Temperature offset (Delta T or dT). Let's open the data file, and plot the raw temperature deltat T, as well as an example EPICA-based ELA between 30 ka BP and 20 ky BP over time (here we took ELA = 3000 at present day and is decreased by 200 meters per °C, i.e. ELA = 1000 i.e. DT = -10 for illustation):\n"
      ],
      "metadata": {
        "id": "m3pZFK1TRB66"
      }
    },
    {
      "cell_type": "code",
      "source": [
        "ss = np.loadtxt('data-for-paleo-tuto/EDC_dD_temp_estim.tab',dtype=np.float32,skiprows=31)\n",
        "time = ss[:,1] * -1000  # extract time BP, chnage unit to yeat\n",
        "dT   = ss[:,3]          # extract the dT, i.e. global temp. difference\n",
        "dT =  interp1d(time,dT, fill_value=(dT[0], dT[-1]),bounds_error=False)\n",
        "TIME = np.arange(-30000,-15000,100) # discretize time between 30 and 20 ka BP with century steps\n",
        " \n",
        "fig, ax1 = plt.subplots()\n",
        "ax2 = ax1.twinx()\n",
        "ax1.plot(TIME, dT(TIME),'-r') \n",
        "ax2.plot(TIME, 3000 + 200.0*dT(TIME),'b') \n",
        "ax1.set_xlabel('Time')\n",
        "ax1.set_ylabel('DT', color='g')\n",
        "ax2.set_ylabel('ELA', color='b')\n",
        "plt.show()"
      ],
      "metadata": {
        "id": "WnEdZSuPRCOr"
      },
      "execution_count": null,
      "outputs": []
    },
    {
      "cell_type": "markdown",
      "metadata": {
        "id": "ZjAww78oihqA"
      },
      "source": [
        "Let's define our own mass balance function, which defined ELA as function of EPICA's DT (ELA is low close to LGM, and high before / after), and the mass balance as function of ELA and other parameters. This mass balance function is simply advocated to the python class igm as it is not available in the original igm source code."
      ]
    },
    {
      "cell_type": "code",
      "execution_count": null,
      "metadata": {
        "id": "oSrsWb3IizkL"
      },
      "outputs": [],
      "source": [
        "class Igm(Igm):\n",
        "\n",
        "    def init_smb_signal(self):\n",
        "        \"\"\"\n",
        "            Retrieve the Temperature difference from the EPICA signal\n",
        "        \"\"\"\n",
        "        # load the EPICA signal from the official data\n",
        "        ss = np.loadtxt('data-for-paleo-tuto/EDC_dD_temp_estim.tab',dtype=np.float32,skiprows=31)\n",
        "        time = ss[:,1] * -1000  # extract time BP, chnage unit to yeat\n",
        "        dT   = ss[:,3]          # extract the dT, i.e. global temp. difference\n",
        "        self.dT =  interp1d(time,dT, fill_value=(dT[0], dT[-1]),bounds_error=False)\n",
        "\n",
        "    def update_smb_signal(self):\n",
        "        \"\"\"\n",
        "            mass balance 'signal'\n",
        "        \"\"\"\n",
        "\n",
        "        # this serves to open the EPICA file (this is done only once at start)\n",
        "        if not hasattr(self, \"already_called_update_smb_signal\"):\n",
        "            self.init_smb_signal()\n",
        "            self.already_called_update_smb_signal = True\n",
        "\n",
        "        # define ELA as function of EPICA's Delta T, ELA's present day (pdela) and Dela/Dt (deladt)\n",
        "        ela     = self.config.pdela + self.config.deladt*self.dT(self.t) # for rhine\n",
        "\n",
        "        # that's SMB param with ELA, ablation and accc gradient, and max accumulation\n",
        "        # i.e. SMB =       gradabl*(z-ela)           if z<ela, \n",
        "        #          =  min( gradacc*(z-ela) , maxacc) if z>ela.\n",
        "        smb = self.usurf - ela\n",
        "        smb *= tf.where(tf.less(smb, 0), self.config.gradabl, self.config.gradacc)\n",
        "        smb = tf.clip_by_value(smb, -100, self.config.maxacc)\n",
        "\n",
        "        self.smb.assign( smb )\n",
        "\n",
        "glacier = Igm()\n"
      ]
    },
    {
      "cell_type": "markdown",
      "source": [
        "Let's now define some pararameters, and run the code\n"
      ],
      "metadata": {
        "id": "OmpypX0tEsnp"
      }
    },
    {
      "cell_type": "code",
      "source": [
        "\n",
        "glacier.config.geology_file            = 'data-for-paleo-tuto/'+area+'-'+str(reso)+'.nc' \n",
        "glacier.config.tstart                  = -30000 \n",
        "glacier.config.tend                    = -29000\n",
        "glacier.config.tsave                   = 100  # save result each 100 years\n",
        "glacier.config.cfl                     = 0.25 # if you see numerical unstabilities, decrease this.\n",
        "glacier.config.init_strflowctrl        = 100  # this parameter controls the ice flow strengh, if you increase it, you accelerate the ice\n",
        "\n",
        "# here you can change parameters that parametrize ELA \n",
        "glacier.config.pdela  = 3000 # Present-day ELA\n",
        "if area=='rhine':\n",
        "  glacier.config.deladt = 190 \n",
        "elif area=='linth':\n",
        "  glacier.config.deladt = 220 \n",
        "else:\n",
        "  glacier.config.deladt = 200\n",
        "\n",
        "# here you can change parameters that parametrize the mass balance function (as defined above)\n",
        "glacier.config.gradabl = 0.0067   # taken from (Cohen, 2018, TC)\n",
        "glacier.config.gradacc = 0.0005   # taken from (Cohen, 2018, TC)\n",
        "glacier.config.maxacc  = 1.0      # taken from (Cohen, 2018, TC)\n",
        "\n",
        "if reso<=200:\n",
        "  glacier.config.iceflow_model_lib_path  = 'f12_cfsflow_GJ_21_a' # use this for resolution 100,200\n",
        "else:\n",
        "  glacier.config.iceflow_model_lib_path  = 'f14_pism_GJ_21_a'    # use this for resolution 1000,2000\n",
        "\n",
        "glacier.config.type_mass_balance       = 'signal'\n",
        "glacier.config.usegpu                  = True\n",
        "\n",
        "glacier.initialize()\n",
        "\n",
        "!rm ex.nc ts.nc\n",
        "\n",
        "glacier.initialize() \n",
        "with tf.device(glacier.device_name):\n",
        "    glacier.load_ncdf_data(glacier.config.geology_file)\n",
        "    glacier.initialize_fields()               \n",
        "    while glacier.t < glacier.config.tend:                       \n",
        "        glacier.update_smb()\n",
        "        glacier.update_iceflow()\n",
        "        glacier.update_t_dt() \n",
        "        glacier.update_thk()       \n",
        "        glacier.update_ncdf_ex()\n",
        "        glacier.update_ncdf_ts()\n",
        "        glacier.update_plot()\n",
        "        glacier.print_info()\n",
        "        \n",
        "glacier.print_all_comp_info()"
      ],
      "metadata": {
        "id": "VfkI5xnUETR6"
      },
      "execution_count": null,
      "outputs": []
    },
    {
      "cell_type": "markdown",
      "source": [
        "Let's vizualize the result as an animation"
      ],
      "metadata": {
        "id": "jBAn4C3_Bt18"
      }
    },
    {
      "cell_type": "code",
      "source": [
        "glacier.animate_result('ex.nc','velsurf_mag',save=True)\n",
        "#igm.animate_result('ex.nc','velsurf_mag',save=True)"
      ],
      "metadata": {
        "id": "k1G_oIK-Bog2"
      },
      "execution_count": 9,
      "outputs": []
    },
    {
      "cell_type": "markdown",
      "source": [
        "Let's now plot i) the maximum extent with the flowline in plan-view ii) the glacier position along the flowline"
      ],
      "metadata": {
        "id": "_woGIxI0XpoP"
      }
    },
    {
      "cell_type": "code",
      "source": [
        "# import flowline and define distance along flowline\n",
        "fl = np.loadtxt('data-for-paleo-tuto/'+area+'-flowline.dat')\n",
        "dist = np.cumsum( np.sqrt( np.diff(fl[:,0])**2 + np.diff(fl[:,1])**2 ) )\n",
        "dist = np.insert(dist,0,0) / 1000\n",
        "\n",
        "# open IGM's output\n",
        "nc      = Dataset('ex.nc', 'r')        \n",
        "time    = nc.variables['time'][:] ;\n",
        "x       = np.squeeze(nc.variables['x']) ;\n",
        "y       = np.squeeze(nc.variables['y']) ;\n",
        "thk     = np.squeeze(nc.variables['thk']) ;\n",
        "nc.close()\n",
        "\n",
        "# check what points of the flowiline are covered by ice at time t. \n",
        "cov = np.zeros((len(time),len(fl)))\n",
        "for it in range(len(time)):\n",
        "    f = RectBivariateSpline(x, y, np.transpose(thk[it]))\n",
        "    cov[it,:] = f(fl[:,0],fl[:,1],grid=False)>10\n",
        "\n",
        "# 2D space position along flowline x times\n",
        "DIST,TIME = np.meshgrid(dist,time)\n",
        "D = DIST[cov==1]\n",
        "T = TIME[cov==1]\n",
        " \n",
        "# define the maximum ice thickness\n",
        "thkmax = np.max(thk,axis=0)\n",
        "thkmaxnan = np.where( thkmax<1 , np.nan, thkmax)\n",
        "\n",
        "# plot flowline \n",
        "fig, (ax1, ax2) =  plt.subplots(2,1,figsize=(5,5),dpi=200) \n",
        "im1 = ax1.imshow(thkmaxnan, origin='lower',  extent=[min(x),max(x),min(y),max(y)])\n",
        "ax1.plot(fl[:,0],fl[:,1],'-k', linewidth=2)\n",
        "ax1.set_title('Maximum ice thickness with flowline')\n",
        "ax1.axis('off') \n",
        "ax2.plot(D,T/1000, color='gray', alpha=0.75)\n",
        "ax2.set(xlabel='Glacier position (km)', ylabel='Timing (ky)')\n"
      ],
      "metadata": {
        "id": "Q9BdLSkSyT2b"
      },
      "execution_count": null,
      "outputs": []
    },
    {
      "cell_type": "markdown",
      "source": [
        "Now you may try other mass balance parameters (e.g. lowering the ELA to make glacier longer), change the resolution, or try other areas."
      ],
      "metadata": {
        "id": "mFFnX2QeD5ha"
      }
    },
    {
      "cell_type": "code",
      "source": [
        "# uncomment this to clean the workspace\n",
        "!rm -r f12* f14* data-for-paleo-tuto ex-thk.mp4 ex.nc ts.nc igm-run-parameters.txt igm.py computational-statistics.txt"
      ],
      "metadata": {
        "id": "WLZfR2rdWvKp"
      },
      "execution_count": null,
      "outputs": []
    }
  ],
  "metadata": {
    "accelerator": "GPU",
    "colab": {
      "collapsed_sections": [],
      "name": "IGM-paleo-alps.ipynb",
      "provenance": [],
      "authorship_tag": "ABX9TyODlwOpQpRB+cnvVVMR5DG2",
      "include_colab_link": true
    },
    "kernelspec": {
      "display_name": "Python 3",
      "name": "python3"
    },
    "language_info": {
      "name": "python"
    }
  },
  "nbformat": 4,
  "nbformat_minor": 0
}